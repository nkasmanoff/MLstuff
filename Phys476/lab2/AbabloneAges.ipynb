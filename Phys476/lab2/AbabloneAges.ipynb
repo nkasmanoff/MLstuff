{
 "cells": [
  {
   "cell_type": "markdown",
   "metadata": {},
   "source": [
    "Using Keras, takes a data set of Abalone along with their properties, and uses these to try and predict their age. Training data provided by https://archive.ics.uci.edu/ml/machine-learning-databases/abalone/"
   ]
  },
  {
   "cell_type": "code",
   "execution_count": 2,
   "metadata": {},
   "outputs": [
    {
     "name": "stderr",
     "output_type": "stream",
     "text": [
      "Using TensorFlow backend.\n"
     ]
    }
   ],
   "source": [
    "from keras.models import Sequential\n",
    "from keras.layers import Dense\n",
    "import tensorflow\n",
    "import pandas\n",
    "import numpy as np\n",
    "np.random.seed(4)"
   ]
  },
  {
   "cell_type": "code",
   "execution_count": null,
   "metadata": {
    "collapsed": true
   },
   "outputs": [],
   "source": []
  },
  {
   "cell_type": "code",
   "execution_count": 3,
   "metadata": {
    "collapsed": true
   },
   "outputs": [],
   "source": [
    "#read in data, create a matrix of it using .values\n",
    "data= pandas.read_csv('abalone.csv')\n",
    "dat = data.values  #why this? \n"
   ]
  },
  {
   "cell_type": "code",
   "execution_count": 4,
   "metadata": {
    "collapsed": true
   },
   "outputs": [],
   "source": [
    "#input data is the first 7 columns and stuff, output is the final column. \n",
    "y = dat[:,8]\n",
    "a = dat[:,0:8]"
   ]
  },
  {
   "cell_type": "code",
   "execution_count": 5,
   "metadata": {
    "collapsed": true
   },
   "outputs": [],
   "source": [
    "#hot encoder: \n",
    "append_array = np.zeros([len(a),2])\n",
    "a = np.concatenate((append_array,a),axis=1)\n",
    "for i in range(0,len(a)):\n",
    "    if (a[i,2] == 'M'):\n",
    "        a[i,0] = 0.0\n",
    "        a[i,2] = 1.0\n",
    "    elif (a[i,2] == 'F'):\n",
    "        a[i,0] = 1.0\n",
    "        a[i,2] = 0.0\n",
    "    elif (a[i,2] == 'I'):\n",
    "        a[i,1] = 1.0\n",
    "        a[i,2] = 0.0\n"
   ]
  },
  {
   "cell_type": "code",
   "execution_count": 6,
   "metadata": {
    "collapsed": true
   },
   "outputs": [],
   "source": [
    "model=Sequential()\n",
    "#Now to add layers\n",
    "model.add(Dense(120,input_dim=10,activation='relu'))\n",
    "model.add(Dense(80,activation='relu'))\n",
    "model.add(Dense(60,activation='linear'))\n",
    "model.add(Dense(1,activation='linear'))\n",
    "model.compile(loss='mean_squared_error',optimizer='SGD',metrics=['accuracy'])\n"
   ]
  },
  {
   "cell_type": "code",
   "execution_count": 7,
   "metadata": {},
   "outputs": [
    {
     "name": "stdout",
     "output_type": "stream",
     "text": [
      "Epoch 1/20\n",
      "4177/4177 [==============================] - 1s 131us/step - loss: 11.1225 - acc: 0.1578\n",
      "Epoch 2/20\n",
      "4177/4177 [==============================] - 0s 83us/step - loss: 7.2823 - acc: 0.1834\n",
      "Epoch 3/20\n",
      "4177/4177 [==============================] - 0s 86us/step - loss: 6.4737 - acc: 0.1977\n",
      "Epoch 4/20\n",
      "4177/4177 [==============================] - 0s 80us/step - loss: 6.2849 - acc: 0.1922\n",
      "Epoch 5/20\n",
      "4177/4177 [==============================] - 0s 87us/step - loss: 5.9678 - acc: 0.2090\n",
      "Epoch 6/20\n",
      "4177/4177 [==============================] - 0s 83us/step - loss: 5.7561 - acc: 0.2104\n",
      "Epoch 7/20\n",
      "4177/4177 [==============================] - 0s 85us/step - loss: 5.5528 - acc: 0.2090\n",
      "Epoch 8/20\n",
      "4177/4177 [==============================] - 0s 82us/step - loss: 5.4875 - acc: 0.2143\n",
      "Epoch 9/20\n",
      "4177/4177 [==============================] - 0s 81us/step - loss: 5.5908 - acc: 0.2282\n",
      "Epoch 10/20\n",
      "4177/4177 [==============================] - 0s 83us/step - loss: 5.4590 - acc: 0.2339\n",
      "Epoch 11/20\n",
      "4177/4177 [==============================] - 0s 86us/step - loss: 5.3890 - acc: 0.2267\n",
      "Epoch 12/20\n",
      "4177/4177 [==============================] - 0s 87us/step - loss: 5.5846 - acc: 0.2143\n",
      "Epoch 13/20\n",
      "4177/4177 [==============================] - 0s 87us/step - loss: 5.3731 - acc: 0.2234\n",
      "Epoch 14/20\n",
      "4177/4177 [==============================] - 0s 89us/step - loss: 5.2053 - acc: 0.2226\n",
      "Epoch 15/20\n",
      "4177/4177 [==============================] - 0s 85us/step - loss: 5.7741 - acc: 0.2143\n",
      "Epoch 16/20\n",
      "4177/4177 [==============================] - 0s 84us/step - loss: 5.2798 - acc: 0.2222\n",
      "Epoch 17/20\n",
      "4177/4177 [==============================] - 0s 85us/step - loss: 5.0768 - acc: 0.2322\n",
      "Epoch 18/20\n",
      "4177/4177 [==============================] - 0s 86us/step - loss: 5.0806 - acc: 0.2373\n",
      "Epoch 19/20\n",
      "4177/4177 [==============================] - 0s 84us/step - loss: 5.0129 - acc: 0.2334\n",
      "Epoch 20/20\n",
      "4177/4177 [==============================] - 0s 83us/step - loss: 5.0340 - acc: 0.2265: 0s - loss: 4.4001 - acc: \n"
     ]
    },
    {
     "data": {
      "text/plain": [
       "<keras.callbacks.History at 0x120bd19b0>"
      ]
     },
     "execution_count": 7,
     "metadata": {},
     "output_type": "execute_result"
    }
   ],
   "source": [
    "model.fit(a,y,epochs=20,batch_size=20,validation_split=.2)\n"
   ]
  },
  {
   "cell_type": "code",
   "execution_count": 8,
   "metadata": {},
   "outputs": [
    {
     "name": "stdout",
     "output_type": "stream",
     "text": [
      "4177/4177 [==============================] - 0s 29us/step\n"
     ]
    }
   ],
   "source": [
    "scores=model.evaluate(a,y)"
   ]
  },
  {
   "cell_type": "code",
   "execution_count": 9,
   "metadata": {},
   "outputs": [
    {
     "data": {
      "text/plain": [
       "[5.1402121710383435, 0.24084271007989594]"
      ]
     },
     "execution_count": 9,
     "metadata": {},
     "output_type": "execute_result"
    }
   ],
   "source": [
    "scores"
   ]
  },
  {
   "cell_type": "code",
   "execution_count": null,
   "metadata": {
    "collapsed": true
   },
   "outputs": [],
   "source": []
  },
  {
   "cell_type": "code",
   "execution_count": 10,
   "metadata": {
    "collapsed": true
   },
   "outputs": [],
   "source": [
    "predict = [0.0, 0.0, 1.0, ..., 0.2245, 0.10099999999999999, 0.15]  #answer is 15"
   ]
  },
  {
   "cell_type": "code",
   "execution_count": 12,
   "metadata": {},
   "outputs": [
    {
     "data": {
      "text/plain": [
       "array([[ 9.11498737]], dtype=float32)"
      ]
     },
     "execution_count": 12,
     "metadata": {},
     "output_type": "execute_result"
    }
   ],
   "source": [
    "model.predict(np.array([a[0]]))"
   ]
  },
  {
   "cell_type": "code",
   "execution_count": 44,
   "metadata": {},
   "outputs": [
    {
     "data": {
      "text/plain": [
       "15"
      ]
     },
     "execution_count": 44,
     "metadata": {},
     "output_type": "execute_result"
    }
   ],
   "source": [
    "y[0]"
   ]
  },
  {
   "cell_type": "code",
   "execution_count": 51,
   "metadata": {},
   "outputs": [
    {
     "data": {
      "text/plain": [
       "array([3.290735], dtype=float32)"
      ]
     },
     "execution_count": 51,
     "metadata": {},
     "output_type": "execute_result"
    }
   ],
   "source": [
    "min(model.predict(np.array(a[:])))"
   ]
  },
  {
   "cell_type": "code",
   "execution_count": 52,
   "metadata": {},
   "outputs": [
    {
     "data": {
      "text/plain": [
       "1"
      ]
     },
     "execution_count": 52,
     "metadata": {},
     "output_type": "execute_result"
    }
   ],
   "source": [
    "min(y)"
   ]
  },
  {
   "cell_type": "code",
   "execution_count": null,
   "metadata": {
    "collapsed": true
   },
   "outputs": [],
   "source": []
  }
 ],
 "metadata": {
  "kernelspec": {
   "display_name": "Python 3",
   "language": "python",
   "name": "python3"
  },
  "language_info": {
   "codemirror_mode": {
    "name": "ipython",
    "version": 3
   },
   "file_extension": ".py",
   "mimetype": "text/x-python",
   "name": "python",
   "nbconvert_exporter": "python",
   "pygments_lexer": "ipython3",
   "version": "3.6.1"
  }
 },
 "nbformat": 4,
 "nbformat_minor": 2
}
