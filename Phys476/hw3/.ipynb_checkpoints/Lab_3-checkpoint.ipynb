{
 "cells": [
  {
   "cell_type": "code",
   "execution_count": null,
   "metadata": {},
   "outputs": [],
   "source": [
    "import sys\n",
    "import numpy as np\n",
    "import pandas as pd\n",
    "import tensorflow as tf\n",
    "from sklearn.preprocessing import LabelEncoder\n",
    "from sklearn.model_selection import train_test_split\n",
    "from keras.utils import np_utils\n",
    "np.random.seed(4)"
   ]
  },
  {
   "cell_type": "code",
   "execution_count": null,
   "metadata": {
    "collapsed": true
   },
   "outputs": [],
   "source": [
    "data = pd.read_csv('cancer.dat',header=None)\n",
    "data_array = data.values\n",
    "#remove rows with missing vals\n",
    "good_rows = np.invert(np.any(data_array=='?',1))\n",
    "data = data_array[good_rows]\n",
    "x= data[:,1:10].astype(np.float32)\n",
    "y=data[:,10].astype(int)\n",
    "#one hot encoding - have to use for y in neural nets, bc not automatically a classification problem\n",
    "le = LabelEncoder()\n",
    "le.fit(y)\n",
    "y=le.transform(y)\n",
    "y=np_utils.to_categorical(y)\n",
    "(x_train,x_test,y_train,y_test) = train_test_split(x,y,test_size=.2)"
   ]
  },
  {
   "cell_type": "code",
   "execution_count": null,
   "metadata": {},
   "outputs": [],
   "source": [
    "hidden_nodes=5\n",
    "num_y_train = y_train.shape[1]\n",
    "batch_size = 100\n",
    "num_features = x_train.shape[1]\n",
    "learning_rate = .01\n",
    "\n",
    "graph = tf.Graph()\n",
    "with graph.as_default():\n",
    "    #Data\n",
    "    tf_train_dataset = tf.placeholder(tf.float32,shape=[None,num_features])\n",
    "    tf_train_labels = tf.placeholder(tf.float32,shape=[None,num_y_train])\n",
    "    tf_test_dataset = tf.constant(x_test)\n",
    "\n",
    "    #weights and biases\n",
    "    layer1_weights = tf.Variable(tf.truncated_normal([num_features,hidden_nodes]))\n",
    "    layer1_biases = tf.Variable(tf.zeros([hidden_nodes]))\n",
    "    layer2_weights = tf.Variable(tf.truncated_normal([hidden_nodes,num_y_train]))\n",
    "    layer2_biases = tf.Variable(tf.zeros([num_y_train]))\n",
    "    #Three-layer netowrk\n",
    "    def three_layer_network(data):\n",
    "        input_layer = tf.matmul(data,layer1_weights)\n",
    "        hidden = tf.nn.relu(input_layer+layer1_biases)\n",
    "        output_layer = tf.matmul(hidden,layer2_weights)+layer2_biases\n",
    "        return output_layer\n",
    "\n",
    "    #Model Scores\n",
    "    model_scores = three_layer_network(tf_train_dataset)\n",
    "\n",
    "    #Loss\n",
    "\n",
    "    loss = tf.reduce_mean(tf.nn.softmax_cross_entropy_with_logits_v2(labels =tf_train_labels,logits=model_scores ))\n",
    "    #optimizer\n",
    "    optimizer = tf.train.GradientDescentOptimizer(learning_rate).minimize(loss)\n",
    "    #is learning rate the proportionality term in backpropagation?\n",
    "    \n",
    "    #Predictions \n",
    "    train_prediction =tf.nn.softmax(model_scores)\n",
    "    test_prediction = tf.nn.softmax(three_layer_network(tf_test_dataset))\n",
    "\n",
    " #ready to train\n",
    "def accuracy(predictions,labels):\n",
    "    preds_correct_boolean = np.argmax(predictions,1) == np.argmax(labels,1)\n",
    "    correct_predictions = np.sum(preds_correct_boolean)\n",
    "    accuracy = correct_predictions/predictions.shape[0]\n",
    "    return accuracy\n",
    "\n",
    "num_steps = 10001\n",
    "\n",
    "with tf.Session(graph=graph) as sess:\n",
    "    #tf.initialize_all_variables().run()\n",
    "    sess.run(tf.global_variables_initializer())\n",
    "    for step in range(num_steps):\n",
    "        offset = (step*batch_size) % (y_train.shape[0]- batch_size)\n",
    "        minibatch_data = x_train[offset:(offset+batch_size),:]\n",
    "        minibatch_labels = y_train[offset:(offset+batch_size)] #feel like should be column : too\n",
    "        feed_dict = {tf_train_dataset:minibatch_data,tf_train_labels:minibatch_labels}\n",
    "        _,lo,predictions = sess.run([optimizer,loss,train_prediction],feed_dict = feed_dict)\n",
    "\n",
    "        if step % 1000 == 0:\n",
    "            print(\"Minibatch loss at step {0}: {1}\".format(step,lo))\n",
    "    print(accuracy(test_prediction.eval(),y_test))"
   ]
  },
  {
   "cell_type": "code",
   "execution_count": null,
   "metadata": {
    "collapsed": true
   },
   "outputs": [],
   "source": []
  }
 ],
 "metadata": {
  "kernelspec": {
   "display_name": "Python 3",
   "language": "python",
   "name": "python3"
  },
  "language_info": {
   "codemirror_mode": {
    "name": "ipython",
    "version": 3
   },
   "file_extension": ".py",
   "mimetype": "text/x-python",
   "name": "python",
   "nbconvert_exporter": "python",
   "pygments_lexer": "ipython3",
   "version": "3.6.1"
  }
 },
 "nbformat": 4,
 "nbformat_minor": 2
}
