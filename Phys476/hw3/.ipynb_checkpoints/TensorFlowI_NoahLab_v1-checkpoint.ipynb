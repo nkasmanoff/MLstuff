{
 "cells": [
  {
   "cell_type": "markdown",
   "metadata": {},
   "source": [
    "This seems to be the lowest level of ML ANN architecture I'll be working at. In this lab/hw I am going to be at to solve a problem. Most room for modifications! \n",
    "\n",
    "Problem \n",
    "-------\n",
    "Set up a basic neural net using TensorFlow following the example from lecture.\n",
    "\n",
    "Use the same data and testing parameters from the Breast Cancer exercise in Hw 1 to make the same predictions with this new NN."
   ]
  },
  {
   "cell_type": "code",
   "execution_count": 1,
   "metadata": {},
   "outputs": [
    {
     "name": "stderr",
     "output_type": "stream",
     "text": [
      "/Users/noahkasmanoff/anaconda/lib/python3.6/site-packages/h5py/__init__.py:34: FutureWarning: Conversion of the second argument of issubdtype from `float` to `np.floating` is deprecated. In future, it will be treated as `np.float64 == np.dtype(float).type`.\n",
      "  from ._conv import register_converters as _register_converters\n"
     ]
    }
   ],
   "source": [
    "import tensorflow as tf"
   ]
  },
  {
   "cell_type": "code",
   "execution_count": 2,
   "metadata": {
    "collapsed": true
   },
   "outputs": [],
   "source": [
    "#Set parameters\n",
    "learning_rate = .01 #how fast we update the weights, .01 is a known decent size\n",
    "training_iteration = 30\n",
    "batch_size = 100\n",
    "display_step = 2"
   ]
  },
  {
   "cell_type": "code",
   "execution_count": 3,
   "metadata": {},
   "outputs": [
    {
     "ename": "SyntaxError",
     "evalue": "invalid syntax (<ipython-input-3-69ac42fa3fa4>, line 5)",
     "output_type": "error",
     "traceback": [
      "\u001b[0;36m  File \u001b[0;32m\"<ipython-input-3-69ac42fa3fa4>\"\u001b[0;36m, line \u001b[0;32m5\u001b[0m\n\u001b[0;31m    x = tf.placeholder(\"float\", [None,10?]) #placeholder is a variable we assign data to at a later point\u001b[0m\n\u001b[0m                                        ^\u001b[0m\n\u001b[0;31mSyntaxError\u001b[0m\u001b[0;31m:\u001b[0m invalid syntax\n"
     ]
    }
   ],
   "source": [
    "#build the model\n",
    "\n",
    "#TF graph input\n",
    "#create a model \n",
    "x = tf.placeholder(\"float\", [None,10?]) #placeholder is a variable we assign data to at a later point\n",
    "y = tf.placeholder(\"float\", [None,2])"
   ]
  },
  {
   "cell_type": "code",
   "execution_count": null,
   "metadata": {
    "collapsed": true
   },
   "outputs": [],
   "source": [
    "#Set model weights\n",
    "W = tf.Variable(tf.zeros([10,2])) #weight, prob that affects how data flows\n",
    "b = tf.Variable(tf.zeros([2])) #bias shift the regression line"
   ]
  },
  {
   "cell_type": "code",
   "execution_count": null,
   "metadata": {
    "collapsed": true
   },
   "outputs": [],
   "source": [
    "with tf.name_scope(\"Wx_b\"):  #for visualization purposes, comes later on. Also where we define the metric,loss,optimizer, etc. \n",
    "    model = tf.nn.relu(tf.matmul(x,W)+b`)"
   ]
  },
  {
   "cell_type": "markdown",
   "metadata": {},
   "source": []
  },
  {
   "cell_type": "code",
   "execution_count": null,
   "metadata": {
    "collapsed": true
   },
   "outputs": [],
   "source": []
  },
  {
   "cell_type": "code",
   "execution_count": null,
   "metadata": {
    "collapsed": true
   },
   "outputs": [],
   "source": []
  },
  {
   "cell_type": "code",
   "execution_count": null,
   "metadata": {
    "collapsed": true
   },
   "outputs": [],
   "source": []
  }
 ],
 "metadata": {
  "kernelspec": {
   "display_name": "Python 3",
   "language": "python",
   "name": "python3"
  },
  "language_info": {
   "codemirror_mode": {
    "name": "ipython",
    "version": 3
   },
   "file_extension": ".py",
   "mimetype": "text/x-python",
   "name": "python",
   "nbconvert_exporter": "python",
   "pygments_lexer": "ipython3",
   "version": "3.6.1"
  }
 },
 "nbformat": 4,
 "nbformat_minor": 2
}
