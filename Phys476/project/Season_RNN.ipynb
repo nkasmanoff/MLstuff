{
 "cells": [
  {
   "cell_type": "markdown",
   "metadata": {},
   "source": [
    "Idea\n",
    "----\n",
    "\n",
    "Can you use an RNN, similar to predicting stock prices, to track the history of a team's success? Going to use win % since its already pretty normalized. This should also be applied to teams that have been around a while"
   ]
  },
  {
   "cell_type": "code",
   "execution_count": 1,
   "metadata": {
    "scrolled": true
   },
   "outputs": [
    {
     "name": "stderr",
     "output_type": "stream",
     "text": [
      "/Users/noahkasmanoff/anaconda/lib/python3.6/site-packages/h5py/__init__.py:34: FutureWarning: Conversion of the second argument of issubdtype from `float` to `np.floating` is deprecated. In future, it will be treated as `np.float64 == np.dtype(float).type`.\n",
      "  from ._conv import register_converters as _register_converters\n",
      "Using TensorFlow backend.\n"
     ]
    }
   ],
   "source": [
    "import csv\n",
    "import numpy as np\n",
    "from sklearn.svm import SVR\n",
    "import matplotlib.pyplot as plt\n",
    "import pandas as pd\n",
    "from keras.layers.core import Dense, Activation, Dropout\n",
    "from keras.layers.recurrent import LSTM\n",
    "from keras.models import Sequential\n",
    "import time"
   ]
  },
  {
   "cell_type": "markdown",
   "metadata": {},
   "source": [
    "stuff to still consider\n",
    "----------------------\n",
    "\n",
    "need to reverse list order\n",
    "\n",
    "\n",
    "is this data shuffled? "
   ]
  },
  {
   "cell_type": "code",
   "execution_count": 2,
   "metadata": {
    "collapsed": true
   },
   "outputs": [],
   "source": [
    "def cleandata(df):\n",
    "    dfa = df['W/L%']  #keep the important column \n",
    "    seasons = df['Season']\n",
    "    seasons = seasons.dropna()\n",
    "    seasons = seasons.values[::-1]\n",
    "    years =  []\n",
    "    for i in range(len(seasons)):\n",
    "        years.append(seasons[i].split('-', 1)[0])\n",
    "    newdf = dfa.dropna() #remove missing vals\n",
    "    data = newdf.values[::-1]   #set in proper time order\n",
    "    return years, data"
   ]
  },
  {
   "cell_type": "code",
   "execution_count": 3,
   "metadata": {
    "collapsed": true
   },
   "outputs": [],
   "source": [
    "celticsdf = pd.read_csv('celticsseason.csv')\n",
    "laldf = pd.read_csv('lalseasons.csv')"
   ]
  },
  {
   "cell_type": "code",
   "execution_count": 4,
   "metadata": {
    "collapsed": true
   },
   "outputs": [],
   "source": [
    "lalseasons, laldata = cleandata(laldf)\n",
    "celtsseasons, celtsdata = cleandata(celticsdf)"
   ]
  },
  {
   "cell_type": "code",
   "execution_count": 5,
   "metadata": {
    "scrolled": true
   },
   "outputs": [
    {
     "data": {
      "text/plain": [
       "['1948',\n",
       " '1949',\n",
       " '1950',\n",
       " '1951',\n",
       " '1952',\n",
       " '1953',\n",
       " '1954',\n",
       " '1955',\n",
       " '1956',\n",
       " '1957',\n",
       " '1958',\n",
       " '1959',\n",
       " '1960',\n",
       " '1961',\n",
       " '1962',\n",
       " '1963',\n",
       " '1964',\n",
       " '1965',\n",
       " '1966',\n",
       " '1967',\n",
       " '1968',\n",
       " '1969',\n",
       " '1970',\n",
       " '1971',\n",
       " '1972',\n",
       " '1973',\n",
       " '1974',\n",
       " '1975',\n",
       " '1976',\n",
       " '1977',\n",
       " '1978',\n",
       " '1979',\n",
       " '1980',\n",
       " '1981',\n",
       " '1982',\n",
       " '1983',\n",
       " '1984',\n",
       " '1985',\n",
       " '1986',\n",
       " '1987',\n",
       " '1988',\n",
       " '1989',\n",
       " '1990',\n",
       " '1991',\n",
       " '1992',\n",
       " '1993',\n",
       " '1994',\n",
       " '1995',\n",
       " '1996',\n",
       " '1997',\n",
       " '1998',\n",
       " '1999',\n",
       " '2000',\n",
       " '2001',\n",
       " '2002',\n",
       " '2003',\n",
       " '2004',\n",
       " '2005',\n",
       " '2006',\n",
       " '2007',\n",
       " '2008',\n",
       " '2009',\n",
       " '2010',\n",
       " '2011',\n",
       " '2012',\n",
       " '2013',\n",
       " '2014',\n",
       " '2015',\n",
       " '2016',\n",
       " '2017']"
      ]
     },
     "execution_count": 5,
     "metadata": {},
     "output_type": "execute_result"
    }
   ],
   "source": [
    "lalseasons"
   ]
  },
  {
   "cell_type": "code",
   "execution_count": 6,
   "metadata": {
    "collapsed": true
   },
   "outputs": [],
   "source": [
    "def make_data(data, seq_len):\n",
    "    \"\"\"Input is an array of all the closing day prices of a given stock, Will arrange it into a sequence of a given length\n",
    "    In order to make an RNN of that length where output is the change in stock after that day.\n",
    "    \n",
    "    Stacks closing prices, and repeats starting one day further down. \n",
    "    \n",
    "    Parameters\n",
    "    ----------\n",
    "    \n",
    "    data : array\n",
    "        List of closing price values\n",
    "        \n",
    "    seq_len : int\n",
    "        Total # of days to be included per sequence\n",
    "        \n",
    "\n",
    "    Returns \n",
    "    -------\n",
    "    \n",
    "    Data of season in an order which can be used for training and prediction.  \n",
    "    \n",
    "    \"\"\"\n",
    "    data = data\n",
    "\n",
    "    sequence_length = seq_len + 1\n",
    "    result = []\n",
    "    for index in range(len(data) - sequence_length):\n",
    "        result.append(data[index: index + sequence_length])\n",
    "\n",
    "    result = np.array(result)\n",
    "    X = result[:, :-1]\n",
    "    y = result[:, -1]\n",
    "    X = np.reshape(X, (X.shape[0], X.shape[1], 1))\n",
    "    \n",
    "    return [X,y]"
   ]
  },
  {
   "cell_type": "code",
   "execution_count": 7,
   "metadata": {
    "collapsed": true
   },
   "outputs": [],
   "source": [
    "def load_data(data, seq_len):\n",
    "    \"\"\"Input is an array of all the closing day prices of a given stock, Will arrange it into a sequence of a given length\n",
    "    In order to make an RNN of that length where output is the change in stock after that day.\n",
    "    \n",
    "    Stacks closing prices, and repeats starting one day further down. \n",
    "    \n",
    "    Parameters\n",
    "    ----------\n",
    "    \n",
    "    data : array\n",
    "        List of closing price values\n",
    "        \n",
    "    seq_len : int\n",
    "        Total # of days to be included per sequence\n",
    "        \n",
    "\n",
    "    Returns \n",
    "    -------\n",
    "    \n",
    "    training and testing data. \n",
    "    \n",
    "    \"\"\"\n",
    "    data = data\n",
    "\n",
    "    sequence_length = seq_len + 1\n",
    "    result = []\n",
    "    for index in range(len(data) - sequence_length):\n",
    "        result.append(data[index: index + sequence_length])\n",
    "\n",
    "    result = np.array(result)\n",
    "\n",
    "    row = round(.9 * result.shape[0])\n",
    "    train = result[:int(row), :]\n",
    "   # np.random.shuffle(train)  #randomizes so while it gets open and close, not doing just daily order \n",
    "    x_train = train[:, :-1]\n",
    "    y_train = train[:, -1]\n",
    "    x_test = result[int(row):, :-1]\n",
    "    y_test = result[int(row):, -1]\n",
    "\n",
    "    x_train = np.reshape(x_train, (x_train.shape[0], x_train.shape[1], 1))\n",
    "    x_test = np.reshape(x_test, (x_test.shape[0], x_test.shape[1], 1))  \n",
    "\n",
    "    return [x_train, y_train, x_test, y_test]\n"
   ]
  },
  {
   "cell_type": "code",
   "execution_count": 8,
   "metadata": {
    "collapsed": true
   },
   "outputs": [],
   "source": [
    "X_lal, y_lal = make_data(laldata,5)\n",
    "X_bos, y_bos = make_data(celtsdata,5)"
   ]
  },
  {
   "cell_type": "code",
   "execution_count": 9,
   "metadata": {},
   "outputs": [
    {
     "name": "stderr",
     "output_type": "stream",
     "text": [
      "/Users/noahkasmanoff/anaconda/lib/python3.6/site-packages/ipykernel/__main__.py:7: UserWarning: The `input_dim` and `input_length` arguments in recurrent layers are deprecated. Use `input_shape` instead.\n",
      "/Users/noahkasmanoff/anaconda/lib/python3.6/site-packages/ipykernel/__main__.py:7: UserWarning: Update your `LSTM` call to the Keras 2 API: `LSTM(return_sequences=True, input_shape=(None, 1), units=50)`\n"
     ]
    },
    {
     "name": "stdout",
     "output_type": "stream",
     "text": [
      "compilation time :  0.027266979217529297\n"
     ]
    },
    {
     "name": "stderr",
     "output_type": "stream",
     "text": [
      "/Users/noahkasmanoff/anaconda/lib/python3.6/site-packages/ipykernel/__main__.py:16: UserWarning: Update your `Dense` call to the Keras 2 API: `Dense(units=1)`\n"
     ]
    }
   ],
   "source": [
    "#Build Model, based on Siraj IDL 7\n",
    "model = Sequential()\n",
    "\n",
    "model.add(LSTM(\n",
    "    input_dim=1,\n",
    "    output_dim=50,   \n",
    "    return_sequences=True))\n",
    "model.add(Dropout(0.2))\n",
    "\n",
    "model.add(LSTM( \n",
    "    100,\n",
    "    return_sequences=False))\n",
    "model.add(Dropout(0.2))\n",
    "\n",
    "model.add(Dense(\n",
    "    output_dim=1))\n",
    "model.add(Activation('linear'))\n",
    "\n",
    "start = time.time()\n",
    "model.compile(loss='mse', optimizer='rmsprop')\n",
    "print('compilation time : ', time.time() - start)"
   ]
  },
  {
   "cell_type": "code",
   "execution_count": 16,
   "metadata": {},
   "outputs": [
    {
     "name": "stdout",
     "output_type": "stream",
     "text": [
      "Train on 62 samples, validate on 4 samples\n",
      "Epoch 1/100\n",
      "62/62 [==============================] - 0s 737us/step - loss: 0.0255 - val_loss: 0.0223\n",
      "Epoch 2/100\n",
      "62/62 [==============================] - 0s 897us/step - loss: 0.0225 - val_loss: 0.0318\n",
      "Epoch 3/100\n",
      "62/62 [==============================] - 0s 880us/step - loss: 0.0191 - val_loss: 0.0221\n",
      "Epoch 4/100\n",
      "20/62 [========>.....................] - ETA: 0s - loss: 0.0279"
     ]
    },
    {
     "name": "stderr",
     "output_type": "stream",
     "text": [
      "/Users/noahkasmanoff/anaconda/lib/python3.6/site-packages/keras/models.py:942: UserWarning: The `nb_epoch` argument in `fit` has been renamed `epochs`.\n",
      "  warnings.warn('The `nb_epoch` argument in `fit` '\n"
     ]
    },
    {
     "name": "stdout",
     "output_type": "stream",
     "text": [
      "62/62 [==============================] - 0s 707us/step - loss: 0.0229 - val_loss: 0.0357\n",
      "Epoch 5/100\n",
      "62/62 [==============================] - 0s 608us/step - loss: 0.0173 - val_loss: 0.0232\n",
      "Epoch 6/100\n",
      "62/62 [==============================] - 0s 723us/step - loss: 0.0260 - val_loss: 0.0393\n",
      "Epoch 7/100\n",
      "62/62 [==============================] - 0s 804us/step - loss: 0.0232 - val_loss: 0.0350\n",
      "Epoch 8/100\n",
      "62/62 [==============================] - 0s 761us/step - loss: 0.0219 - val_loss: 0.0281\n",
      "Epoch 9/100\n",
      "62/62 [==============================] - 0s 775us/step - loss: 0.0165 - val_loss: 0.0482\n",
      "Epoch 10/100\n",
      "62/62 [==============================] - 0s 820us/step - loss: 0.0233 - val_loss: 0.0410\n",
      "Epoch 11/100\n",
      "62/62 [==============================] - 0s 893us/step - loss: 0.0211 - val_loss: 0.0272\n",
      "Epoch 12/100\n",
      "62/62 [==============================] - 0s 756us/step - loss: 0.0183 - val_loss: 0.0257\n",
      "Epoch 13/100\n",
      "62/62 [==============================] - 0s 793us/step - loss: 0.0209 - val_loss: 0.0220\n",
      "Epoch 14/100\n",
      "62/62 [==============================] - 0s 776us/step - loss: 0.0190 - val_loss: 0.0271\n",
      "Epoch 15/100\n",
      "62/62 [==============================] - 0s 764us/step - loss: 0.0189 - val_loss: 0.0337\n",
      "Epoch 16/100\n",
      "62/62 [==============================] - 0s 851us/step - loss: 0.0224 - val_loss: 0.0220\n",
      "Epoch 17/100\n",
      "62/62 [==============================] - 0s 756us/step - loss: 0.0222 - val_loss: 0.0369\n",
      "Epoch 18/100\n",
      "62/62 [==============================] - 0s 801us/step - loss: 0.0191 - val_loss: 0.0509\n",
      "Epoch 19/100\n",
      "62/62 [==============================] - 0s 803us/step - loss: 0.0214 - val_loss: 0.0294\n",
      "Epoch 20/100\n",
      "62/62 [==============================] - 0s 706us/step - loss: 0.0187 - val_loss: 0.0229\n",
      "Epoch 21/100\n",
      "62/62 [==============================] - 0s 725us/step - loss: 0.0219 - val_loss: 0.0270\n",
      "Epoch 22/100\n",
      "62/62 [==============================] - 0s 829us/step - loss: 0.0166 - val_loss: 0.0238\n",
      "Epoch 23/100\n",
      "62/62 [==============================] - 0s 756us/step - loss: 0.0173 - val_loss: 0.0223\n",
      "Epoch 24/100\n",
      "62/62 [==============================] - 0s 799us/step - loss: 0.0229 - val_loss: 0.0530\n",
      "Epoch 25/100\n",
      "62/62 [==============================] - 0s 824us/step - loss: 0.0256 - val_loss: 0.0222\n",
      "Epoch 26/100\n",
      "62/62 [==============================] - 0s 758us/step - loss: 0.0201 - val_loss: 0.0245\n",
      "Epoch 27/100\n",
      "62/62 [==============================] - 0s 809us/step - loss: 0.0199 - val_loss: 0.0417\n",
      "Epoch 28/100\n",
      "62/62 [==============================] - 0s 763us/step - loss: 0.0229 - val_loss: 0.0283\n",
      "Epoch 29/100\n",
      "62/62 [==============================] - ETA: 0s - loss: 0.017 - 0s 810us/step - loss: 0.0165 - val_loss: 0.0220\n",
      "Epoch 30/100\n",
      "62/62 [==============================] - 0s 745us/step - loss: 0.0209 - val_loss: 0.0415\n",
      "Epoch 31/100\n",
      "62/62 [==============================] - 0s 800us/step - loss: 0.0195 - val_loss: 0.0225\n",
      "Epoch 32/100\n",
      "62/62 [==============================] - 0s 861us/step - loss: 0.0244 - val_loss: 0.0337\n",
      "Epoch 33/100\n",
      "62/62 [==============================] - 0s 777us/step - loss: 0.0193 - val_loss: 0.0420\n",
      "Epoch 34/100\n",
      "62/62 [==============================] - 0s 779us/step - loss: 0.0213 - val_loss: 0.0219\n",
      "Epoch 35/100\n",
      "62/62 [==============================] - 0s 774us/step - loss: 0.0199 - val_loss: 0.0221\n",
      "Epoch 36/100\n",
      "62/62 [==============================] - 0s 773us/step - loss: 0.0223 - val_loss: 0.0226\n",
      "Epoch 37/100\n",
      "62/62 [==============================] - 0s 773us/step - loss: 0.0222 - val_loss: 0.0250\n",
      "Epoch 38/100\n",
      "62/62 [==============================] - 0s 814us/step - loss: 0.0189 - val_loss: 0.0362\n",
      "Epoch 39/100\n",
      "62/62 [==============================] - 0s 779us/step - loss: 0.0245 - val_loss: 0.0383\n",
      "Epoch 40/100\n",
      "62/62 [==============================] - 0s 811us/step - loss: 0.0218 - val_loss: 0.0518\n",
      "Epoch 41/100\n",
      "62/62 [==============================] - 0s 767us/step - loss: 0.0238 - val_loss: 0.0237\n",
      "Epoch 42/100\n",
      "62/62 [==============================] - 0s 837us/step - loss: 0.0190 - val_loss: 0.0403\n",
      "Epoch 43/100\n",
      "62/62 [==============================] - 0s 819us/step - loss: 0.0199 - val_loss: 0.0220\n",
      "Epoch 44/100\n",
      "62/62 [==============================] - 0s 805us/step - loss: 0.0186 - val_loss: 0.0316\n",
      "Epoch 45/100\n",
      "62/62 [==============================] - 0s 767us/step - loss: 0.0188 - val_loss: 0.0245\n",
      "Epoch 46/100\n",
      "62/62 [==============================] - 0s 790us/step - loss: 0.0186 - val_loss: 0.0387\n",
      "Epoch 47/100\n",
      "62/62 [==============================] - 0s 702us/step - loss: 0.0210 - val_loss: 0.0398\n",
      "Epoch 48/100\n",
      "62/62 [==============================] - 0s 844us/step - loss: 0.0205 - val_loss: 0.0214\n",
      "Epoch 49/100\n",
      "62/62 [==============================] - 0s 823us/step - loss: 0.0243 - val_loss: 0.0319\n",
      "Epoch 50/100\n",
      "62/62 [==============================] - 0s 728us/step - loss: 0.0174 - val_loss: 0.0215\n",
      "Epoch 51/100\n",
      "62/62 [==============================] - 0s 743us/step - loss: 0.0197 - val_loss: 0.0248\n",
      "Epoch 52/100\n",
      "62/62 [==============================] - 0s 863us/step - loss: 0.0173 - val_loss: 0.0354\n",
      "Epoch 53/100\n",
      "62/62 [==============================] - 0s 806us/step - loss: 0.0184 - val_loss: 0.0229\n",
      "Epoch 54/100\n",
      "62/62 [==============================] - 0s 790us/step - loss: 0.0170 - val_loss: 0.0486\n",
      "Epoch 55/100\n",
      "62/62 [==============================] - 0s 699us/step - loss: 0.0213 - val_loss: 0.0226\n",
      "Epoch 56/100\n",
      "62/62 [==============================] - 0s 798us/step - loss: 0.0169 - val_loss: 0.0328\n",
      "Epoch 57/100\n",
      "62/62 [==============================] - 0s 739us/step - loss: 0.0196 - val_loss: 0.0473\n",
      "Epoch 58/100\n",
      "62/62 [==============================] - 0s 706us/step - loss: 0.0222 - val_loss: 0.0215\n",
      "Epoch 59/100\n",
      "62/62 [==============================] - 0s 787us/step - loss: 0.0195 - val_loss: 0.0213\n",
      "Epoch 60/100\n",
      "62/62 [==============================] - 0s 769us/step - loss: 0.0221 - val_loss: 0.0254\n",
      "Epoch 61/100\n",
      "62/62 [==============================] - 0s 795us/step - loss: 0.0180 - val_loss: 0.0287\n",
      "Epoch 62/100\n",
      "62/62 [==============================] - 0s 870us/step - loss: 0.0167 - val_loss: 0.0213\n",
      "Epoch 63/100\n",
      "62/62 [==============================] - 0s 735us/step - loss: 0.0173 - val_loss: 0.0309\n",
      "Epoch 64/100\n",
      "62/62 [==============================] - 0s 692us/step - loss: 0.0206 - val_loss: 0.0368\n",
      "Epoch 65/100\n",
      "62/62 [==============================] - 0s 714us/step - loss: 0.0176 - val_loss: 0.0311\n",
      "Epoch 66/100\n",
      "62/62 [==============================] - 0s 713us/step - loss: 0.0180 - val_loss: 0.0218\n",
      "Epoch 67/100\n",
      "62/62 [==============================] - 0s 618us/step - loss: 0.0190 - val_loss: 0.0336\n",
      "Epoch 68/100\n",
      "62/62 [==============================] - 0s 845us/step - loss: 0.0184 - val_loss: 0.0352\n",
      "Epoch 69/100\n",
      "62/62 [==============================] - 0s 712us/step - loss: 0.0172 - val_loss: 0.0246\n",
      "Epoch 70/100\n",
      "62/62 [==============================] - 0s 667us/step - loss: 0.0187 - val_loss: 0.0225\n",
      "Epoch 71/100\n",
      "62/62 [==============================] - 0s 694us/step - loss: 0.0191 - val_loss: 0.0279\n",
      "Epoch 72/100\n",
      "62/62 [==============================] - 0s 700us/step - loss: 0.0261 - val_loss: 0.0257\n",
      "Epoch 73/100\n",
      "62/62 [==============================] - 0s 606us/step - loss: 0.0165 - val_loss: 0.0216\n",
      "Epoch 74/100\n",
      "62/62 [==============================] - 0s 628us/step - loss: 0.0182 - val_loss: 0.0269\n",
      "Epoch 75/100\n",
      "62/62 [==============================] - 0s 584us/step - loss: 0.0183 - val_loss: 0.0352\n",
      "Epoch 76/100\n",
      "62/62 [==============================] - 0s 803us/step - loss: 0.0227 - val_loss: 0.0325\n",
      "Epoch 77/100\n",
      "62/62 [==============================] - 0s 683us/step - loss: 0.0177 - val_loss: 0.0236\n",
      "Epoch 78/100\n",
      "62/62 [==============================] - 0s 657us/step - loss: 0.0190 - val_loss: 0.0230\n",
      "Epoch 79/100\n",
      "62/62 [==============================] - 0s 704us/step - loss: 0.0180 - val_loss: 0.0210\n",
      "Epoch 80/100\n",
      "62/62 [==============================] - 0s 665us/step - loss: 0.0179 - val_loss: 0.0212\n",
      "Epoch 81/100\n",
      "62/62 [==============================] - 0s 693us/step - loss: 0.0207 - val_loss: 0.0212\n",
      "Epoch 82/100\n",
      "62/62 [==============================] - 0s 707us/step - loss: 0.0204 - val_loss: 0.0206\n",
      "Epoch 83/100\n",
      "62/62 [==============================] - 0s 617us/step - loss: 0.0180 - val_loss: 0.0421\n",
      "Epoch 84/100\n"
     ]
    },
    {
     "name": "stdout",
     "output_type": "stream",
     "text": [
      "62/62 [==============================] - 0s 729us/step - loss: 0.0193 - val_loss: 0.0279\n",
      "Epoch 85/100\n",
      "62/62 [==============================] - 0s 675us/step - loss: 0.0178 - val_loss: 0.0341\n",
      "Epoch 86/100\n",
      "62/62 [==============================] - 0s 695us/step - loss: 0.0194 - val_loss: 0.0305\n",
      "Epoch 87/100\n",
      "62/62 [==============================] - 0s 654us/step - loss: 0.0204 - val_loss: 0.0207\n",
      "Epoch 88/100\n",
      "62/62 [==============================] - 0s 664us/step - loss: 0.0194 - val_loss: 0.0323\n",
      "Epoch 89/100\n",
      "62/62 [==============================] - 0s 649us/step - loss: 0.0198 - val_loss: 0.0220\n",
      "Epoch 90/100\n",
      "62/62 [==============================] - 0s 678us/step - loss: 0.0201 - val_loss: 0.0214\n",
      "Epoch 91/100\n",
      "62/62 [==============================] - 0s 668us/step - loss: 0.0148 - val_loss: 0.0208\n",
      "Epoch 92/100\n",
      "62/62 [==============================] - 0s 671us/step - loss: 0.0187 - val_loss: 0.0211\n",
      "Epoch 93/100\n",
      "62/62 [==============================] - 0s 670us/step - loss: 0.0190 - val_loss: 0.0255\n",
      "Epoch 94/100\n",
      "62/62 [==============================] - 0s 684us/step - loss: 0.0171 - val_loss: 0.0205\n",
      "Epoch 95/100\n",
      "62/62 [==============================] - 0s 699us/step - loss: 0.0187 - val_loss: 0.0252\n",
      "Epoch 96/100\n",
      "62/62 [==============================] - 0s 648us/step - loss: 0.0262 - val_loss: 0.0209\n",
      "Epoch 97/100\n",
      "62/62 [==============================] - 0s 698us/step - loss: 0.0174 - val_loss: 0.0247\n",
      "Epoch 98/100\n",
      "62/62 [==============================] - 0s 680us/step - loss: 0.0175 - val_loss: 0.0219\n",
      "Epoch 99/100\n",
      "62/62 [==============================] - 0s 649us/step - loss: 0.0191 - val_loss: 0.0207\n",
      "Epoch 100/100\n",
      "62/62 [==============================] - 0s 679us/step - loss: 0.0173 - val_loss: 0.0299\n"
     ]
    },
    {
     "data": {
      "text/plain": [
       "<keras.callbacks.History at 0x125f06f98>"
      ]
     },
     "execution_count": 16,
     "metadata": {},
     "output_type": "execute_result"
    }
   ],
   "source": [
    "\n",
    "model.fit(X_bos,y_bos,batch_size=20 ,nb_epoch=100,validation_split=0.05)"
   ]
  },
  {
   "cell_type": "code",
   "execution_count": 17,
   "metadata": {
    "collapsed": true
   },
   "outputs": [],
   "source": [
    "def plot_results_multiple(predicted_data, true_data, prediction_len, years):\n",
    "    fig = plt.figure(facecolor='white')\n",
    "    ax = fig.add_subplot(111)\n",
    "    ax.plot(true_data, label='True Data')\n",
    "    print(len(true_data))\n",
    "    #Pad the list of predictions to shift it in the graph to it's correct start\n",
    "    for i, data in enumerate(predicted_data):\n",
    "        padding = [None for p in range(i * prediction_len)]\n",
    "        plt.plot(padding + data, label='Prediction')\n",
    "       # plt.legend()\n",
    "    plt.title(\"WL% Predictions of The Los Angeles Lakers Based on Celtics Data\")\n",
    "    plt.xlabel('Season')\n",
    "    plt.ylabel('W/L %')\n",
    "from numpy import newaxis\n",
    "\n",
    "def predict_sequences_multiple(model, data, window_size, prediction_len):\n",
    "    #Predict sequence of 50 steps before shifting prediction run forward by 50 steps\n",
    "    prediction_seqs = []\n",
    "    for i in range(int(len(data)/prediction_len)):\n",
    "        curr_frame = data[i*prediction_len]\n",
    "        predicted = []\n",
    "        for j in range(prediction_len):\n",
    "            predicted.append(model.predict(curr_frame[newaxis,:,:])[0,0])\n",
    "            curr_frame = curr_frame[1:]\n",
    "            curr_frame = np.insert(curr_frame, [window_size-1], predicted[-1], axis=0)\n",
    "        prediction_seqs.append(predicted)\n",
    "    return prediction_seqs"
   ]
  },
  {
   "cell_type": "code",
   "execution_count": 18,
   "metadata": {},
   "outputs": [
    {
     "name": "stdout",
     "output_type": "stream",
     "text": [
      "64\n"
     ]
    },
    {
     "data": {
      "image/png": "[encoded data removed]",
      "text/plain": [
       "<matplotlib.figure.Figure at 0x123f1eeb8>"
      ]
     },
     "metadata": {},
     "output_type": "display_data"
    }
   ],
   "source": [
    "%matplotlib inline\n",
    "predictions = predict_sequences_multiple(model, X_lal, 3, 3)\n",
    "plot_results_multiple(predictions, y_lal, 3,lalseasons)"
   ]
  },
  {
   "cell_type": "code",
   "execution_count": null,
   "metadata": {
    "collapsed": true
   },
   "outputs": [],
   "source": [
    "np.shape(X_lal)"
   ]
  },
  {
   "cell_type": "code",
   "execution_count": null,
   "metadata": {
    "collapsed": true
   },
   "outputs": [],
   "source": [
    "y_lal"
   ]
  },
  {
   "cell_type": "code",
   "execution_count": null,
   "metadata": {
    "collapsed": true
   },
   "outputs": [],
   "source": [
    "whogotnext = np.array([np.array([.256]),np.array([.207]),np.array([.317])])"
   ]
  },
  {
   "cell_type": "code",
   "execution_count": null,
   "metadata": {
    "collapsed": true
   },
   "outputs": [],
   "source": [
    "whogotnext.reshape(-1,3,1)"
   ]
  },
  {
   "cell_type": "code",
   "execution_count": null,
   "metadata": {
    "collapsed": true
   },
   "outputs": [],
   "source": [
    "np.shape(whogotnext)"
   ]
  },
  {
   "cell_type": "code",
   "execution_count": null,
   "metadata": {
    "collapsed": true
   },
   "outputs": [],
   "source": [
    "model.predict(curr_frame[newaxis,:,:])[0,0]"
   ]
  },
  {
   "cell_type": "code",
   "execution_count": null,
   "metadata": {
    "collapsed": true
   },
   "outputs": [],
   "source": [
    "model.predict(whogotnext)"
   ]
  },
  {
   "cell_type": "code",
   "execution_count": null,
   "metadata": {
    "collapsed": true
   },
   "outputs": [],
   "source": []
  },
  {
   "cell_type": "code",
   "execution_count": null,
   "metadata": {
    "collapsed": true
   },
   "outputs": [],
   "source": [
    "newdf = newdf.dropna()"
   ]
  },
  {
   "cell_type": "code",
   "execution_count": null,
   "metadata": {
    "collapsed": true
   },
   "outputs": [],
   "source": [
    "plt.figure(figsize=(15, 5));\n",
    "plt.subplot(1,2,1);\n",
    "\n",
    "plt.plot(np.arange(y_train.shape[0]), y_train[:,0], color='blue', label='train target')\n",
    "\n",
    "plt.plot(np.arange(y_train.shape[0], y_train.shape[0]+y_valid.shape[0]), y_valid[:,0],\n",
    "         color='gray', label='valid target')\n",
    "\n",
    "plt.plot(np.arange(y_train.shape[0]+y_valid.shape[0],\n",
    "                   y_train.shape[0]+y_test.shape[0]+y_test.shape[0]),\n",
    "         y_test[:,0], color='black', label='test target')\n",
    "\n",
    "plt.plot(np.arange(y_train_pred.shape[0]),y_train_pred[:,0], color='red',\n",
    "         label='train prediction')\n",
    "\n",
    "plt.plot(np.arange(y_train_pred.shape[0], y_train_pred.shape[0]+y_valid_pred.shape[0]),\n",
    "         y_valid_pred[:,0], color='orange', label='valid prediction')\n",
    "\n",
    "plt.plot(np.arange(y_train_pred.shape[0]+y_valid_pred.shape[0],\n",
    "                   y_train_pred.shape[0]+y_valid_pred.shape[0]+y_test_pred.shape[0]),\n",
    "         y_test_pred[:,0], color='green', label='test prediction')\n",
    "\n",
    "plt.title('past and future stock prices')\n",
    "plt.xlabel('time [days]')\n",
    "plt.ylabel('normalized price')\n",
    "plt.legend(loc='best');"
   ]
  }
 ],
 "metadata": {
  "kernelspec": {
   "display_name": "Python 3",
   "language": "python",
   "name": "python3"
  },
  "language_info": {
   "codemirror_mode": {
    "name": "ipython",
    "version": 3
   },
   "file_extension": ".py",
   "mimetype": "text/x-python",
   "name": "python",
   "nbconvert_exporter": "python",
   "pygments_lexer": "ipython3",
   "version": "3.6.1"
  }
 },
 "nbformat": 4,
 "nbformat_minor": 2
}
