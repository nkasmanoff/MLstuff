{
 "cells": [
  {
   "cell_type": "markdown",
   "metadata": {},
   "source": [
    "Using Support Vector Machines as a means to predict NBA seasons."
   ]
  },
  {
   "cell_type": "code",
   "execution_count": 4,
   "metadata": {
    "collapsed": true
   },
   "outputs": [],
   "source": [
    "%matplotlib inline\n",
    "import csv\n",
    "import numpy as np\n",
    "from sklearn.svm import SVR\n",
    "import matplotlib.pyplot as plt\n",
    "import pandas as pd\n",
    "\n",
    "#plt.switch_backend('macosx')  "
   ]
  },
  {
   "cell_type": "code",
   "execution_count": 5,
   "metadata": {
    "collapsed": true
   },
   "outputs": [],
   "source": [
    "def cleandata(FILENAME):\n",
    "    df = pd.read_csv(FILENAME)\n",
    "    dfa = df['W/L%']  #keep the important column \n",
    "    seasons = df['Season']\n",
    "    seasons = seasons.dropna()\n",
    "    seasons = seasons.values[::-1]\n",
    "    years =  []\n",
    "    for i in range(len(seasons)):\n",
    "        years.append(seasons[i].split('-', 1)[0])\n",
    "    newdf = dfa.dropna() #remove missing vals\n",
    "    data = newdf.values[::-1]   #set in proper time order\n",
    "    return years, data"
   ]
  },
  {
   "cell_type": "code",
   "execution_count": 6,
   "metadata": {},
   "outputs": [],
   "source": [
    "years, wl = cleandata('celticsseason.csv')"
   ]
  },
  {
   "cell_type": "code",
   "execution_count": null,
   "metadata": {
    "collapsed": true
   },
   "outputs": [],
   "source": []
  },
  {
   "cell_type": "code",
   "execution_count": null,
   "metadata": {
    "collapsed": true
   },
   "outputs": [],
   "source": []
  },
  {
   "cell_type": "code",
   "execution_count": 7,
   "metadata": {},
   "outputs": [
    {
     "data": {
      "image/png": "[encoded data removed]",
      "text/plain": [
       "<matplotlib.figure.Figure at 0x120efd320>"
      ]
     },
     "metadata": {},
     "output_type": "display_data"
    }
   ],
   "source": [
    "years = np.reshape(years,(len(years), 1)) # converting to matrix of n X 1\n",
    "\n",
    "\t#svr_lin = SVR(kernel= 'linear', C= 1e3)\n",
    "\t#svr_poly = SVR(kernel= 'poly', C= 1e3, degree= 2)\n",
    "svr_rbf = SVR(kernel= 'rbf', C= 1e3, gamma= 0.1) # defining the support vector regression models\n",
    "svr_rbf.fit(years, wl) # fitting the data points in the models\n",
    "#svr_lin.fit(dates, prices)\n",
    "#svr_poly.fit(dates, prices)\n",
    "\n",
    "plt.scatter(years, wl, color= 'black', label= 'Data') # plotting the initial datapoints \n",
    "plt.plot(years, svr_rbf.predict(years), color= 'red', label= 'RBF model') # plotting the line made by the RBF kernel\n",
    "\t#plt.plot(dates,svr_lin.predict(dates), color= 'green', label= 'Linear model') # plotting the line made by linear kernel\n",
    "\t#plt.plot(dates,svr_poly.predict(dates), color= 'blue', label= 'Polynomial model') # plotting the line made by polynomial kernel\n",
    "plt.xlabel('Date')\n",
    "plt.ylabel('Price')\n",
    "plt.title('Support Vector Regression')\n",
    "plt.legend()\n",
    "plt.show()\n",
    "\n",
    "\t#return svr_rbf.predict(x)[0]#, svr_lin.predict(x)[0], svr_poly.predict(x)[0]\n",
    "\n",
    "#print \"Dates- \", dates\n",
    "#print \"Prices- \", prices"
   ]
  },
  {
   "cell_type": "code",
   "execution_count": 12,
   "metadata": {},
   "outputs": [
    {
     "data": {
      "text/plain": [
       "59.04"
      ]
     },
     "execution_count": 12,
     "metadata": {},
     "output_type": "execute_result"
    }
   ],
   "source": [
    "82*.72"
   ]
  },
  {
   "cell_type": "code",
   "execution_count": 16,
   "metadata": {},
   "outputs": [
    {
     "data": {
      "text/plain": [
       "array([0.57765043])"
      ]
     },
     "execution_count": 16,
     "metadata": {},
     "output_type": "execute_result"
    }
   ],
   "source": [
    "svr_rbf.predict(120)"
   ]
  },
  {
   "cell_type": "code",
   "execution_count": 46,
   "metadata": {},
   "outputs": [
    {
     "data": {
      "text/plain": [
       "33.62"
      ]
     },
     "execution_count": 46,
     "metadata": {},
     "output_type": "execute_result"
    }
   ],
   "source": [
    ".41*82"
   ]
  },
  {
   "cell_type": "code",
   "execution_count": 49,
   "metadata": {},
   "outputs": [
    {
     "data": {
      "text/plain": [
       "30.34"
      ]
     },
     "execution_count": 49,
     "metadata": {},
     "output_type": "execute_result"
    }
   ],
   "source": [
    ".37*82"
   ]
  },
  {
   "cell_type": "code",
   "execution_count": 10,
   "metadata": {},
   "outputs": [
    {
     "data": {
      "text/plain": [
       "array([['1946'],\n",
       "       ['1947'],\n",
       "       ['1948'],\n",
       "       ['1949'],\n",
       "       ['1950'],\n",
       "       ['1951'],\n",
       "       ['1952'],\n",
       "       ['1953'],\n",
       "       ['1954'],\n",
       "       ['1955'],\n",
       "       ['1956'],\n",
       "       ['1957'],\n",
       "       ['1958'],\n",
       "       ['1959'],\n",
       "       ['1960'],\n",
       "       ['1961'],\n",
       "       ['1962'],\n",
       "       ['1963'],\n",
       "       ['1964'],\n",
       "       ['1965'],\n",
       "       ['1966'],\n",
       "       ['1967'],\n",
       "       ['1968'],\n",
       "       ['1969'],\n",
       "       ['1970'],\n",
       "       ['1971'],\n",
       "       ['1972'],\n",
       "       ['1973'],\n",
       "       ['1974'],\n",
       "       ['1975'],\n",
       "       ['1976'],\n",
       "       ['1977'],\n",
       "       ['1978'],\n",
       "       ['1979'],\n",
       "       ['1980'],\n",
       "       ['1981'],\n",
       "       ['1982'],\n",
       "       ['1983'],\n",
       "       ['1984'],\n",
       "       ['1985'],\n",
       "       ['1986'],\n",
       "       ['1987'],\n",
       "       ['1988'],\n",
       "       ['1989'],\n",
       "       ['1990'],\n",
       "       ['1991'],\n",
       "       ['1992'],\n",
       "       ['1993'],\n",
       "       ['1994'],\n",
       "       ['1995'],\n",
       "       ['1996'],\n",
       "       ['1997'],\n",
       "       ['1998'],\n",
       "       ['1999'],\n",
       "       ['2000'],\n",
       "       ['2001'],\n",
       "       ['2002'],\n",
       "       ['2003'],\n",
       "       ['2004'],\n",
       "       ['2005'],\n",
       "       ['2006'],\n",
       "       ['2007'],\n",
       "       ['2008'],\n",
       "       ['2009'],\n",
       "       ['2010'],\n",
       "       ['2011'],\n",
       "       ['2012'],\n",
       "       ['2013'],\n",
       "       ['2014'],\n",
       "       ['2015'],\n",
       "       ['2016'],\n",
       "       ['2017']], dtype='<U4')"
      ]
     },
     "execution_count": 10,
     "metadata": {},
     "output_type": "execute_result"
    }
   ],
   "source": [
    "years"
   ]
  },
  {
   "cell_type": "code",
   "execution_count": null,
   "metadata": {
    "collapsed": true
   },
   "outputs": [],
   "source": []
  }
 ],
 "metadata": {
  "kernelspec": {
   "display_name": "Python 3",
   "language": "python",
   "name": "python3"
  },
  "language_info": {
   "codemirror_mode": {
    "name": "ipython",
    "version": 3
   },
   "file_extension": ".py",
   "mimetype": "text/x-python",
   "name": "python",
   "nbconvert_exporter": "python",
   "pygments_lexer": "ipython3",
   "version": "3.6.1"
  }
 },
 "nbformat": 4,
 "nbformat_minor": 2
}
