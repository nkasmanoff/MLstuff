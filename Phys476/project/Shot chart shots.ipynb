{
 "cells": [
  {
   "cell_type": "markdown",
   "metadata": {},
   "source": [
    "Using the shot chart avaialable for each nba player via the nba api to create a machine learning routine that should be capable of predicting whether or not a basket will go in.\n",
    "\n",
    "Variables include position, coverage, and time. "
   ]
  },
  {
   "cell_type": "code",
   "execution_count": 3,
   "metadata": {},
   "outputs": [
    {
     "name": "stdout",
     "output_type": "stream",
     "text": [
      "height has been deprecated.\n",
      "\n"
     ]
    }
   ],
   "source": [
    "from nba_py import player\n",
    "import numpy as np\n",
    "import pandas as pd\n",
    "pd.set_option('display.height', 1000)\n",
    "pd.set_option('display.max_rows', 500)\n",
    "pd.set_option('display.max_columns', 500)\n",
    "pd.set_option('display.width', 1000)\n",
    "np.random.seed(4)  #replication purposes.\n"
   ]
  },
  {
   "cell_type": "code",
   "execution_count": null,
   "metadata": {
    "collapsed": true
   },
   "outputs": [],
   "source": []
  },
  {
   "cell_type": "code",
   "execution_count": null,
   "metadata": {
    "collapsed": true
   },
   "outputs": [],
   "source": []
  },
  {
   "cell_type": "code",
   "execution_count": 4,
   "metadata": {
    "collapsed": true
   },
   "outputs": [],
   "source": [
    "def get_PID(first_name,last_name):\n",
    "    \"\"\"Obtains the player ID number of the desired player.\n",
    "    \n",
    "    Parameters\n",
    "    -----------\n",
    "    \n",
    "    first_name: str\n",
    "        First name of player\n",
    "    last_name: str\n",
    "        Last name of player\n",
    "    \n",
    "    Returns\n",
    "    -------\n",
    "    \n",
    "    ID : float\n",
    "        The player's ID number. \n",
    "    \"\"\"\n",
    "    \n",
    "    playa = player.get_player(first_name=first_name,last_name=last_name)\n",
    "    \n",
    "    return playa.values[0]"
   ]
  },
  {
   "cell_type": "code",
   "execution_count": 5,
   "metadata": {},
   "outputs": [],
   "source": [
    "dinwiddie = get_PID('Spencer','Dinwiddie')"
   ]
  },
  {
   "cell_type": "code",
   "execution_count": 6,
   "metadata": {
    "collapsed": true
   },
   "outputs": [],
   "source": [
    "from nba_py import shotchart"
   ]
  },
  {
   "cell_type": "code",
   "execution_count": 7,
   "metadata": {
    "collapsed": true
   },
   "outputs": [],
   "source": [
    "def get_shotchart(PID):\n",
    "    \"\"\"Returns a dataframe of the shotchart.\n",
    "    \"\"\"\n",
    "    chart = shotchart.ShotChart(PID)\n",
    "    chartdf = chart.shot_chart()\n",
    "    \n",
    "  #  importantstuff = chartdf[['LOC_X','LOC_Y','SHOT_DISTANCE','ACTION_TYPE','EVENT_TYPE']].copy()   #['LOC_X','LOC_Y','EVENT_TYPE']\n",
    "    importantstuff = chartdf[['LOC_X','LOC_Y','ACTION_TYPE','EVENT_TYPE']].copy()\n",
    "    importantstuff = pd.get_dummies(importantstuff)\n",
    "    return importantstuff"
   ]
  },
  {
   "cell_type": "code",
   "execution_count": 8,
   "metadata": {
    "collapsed": true
   },
   "outputs": [],
   "source": [
    "spencertable = get_shotchart(dinwiddie)"
   ]
  },
  {
   "cell_type": "code",
   "execution_count": 9,
   "metadata": {},
   "outputs": [
    {
     "data": {
      "text/html": [
       "<div>\n",
       "<style>\n",
       "    .dataframe thead tr:only-child th {\n",
       "        text-align: right;\n",
       "    }\n",
       "\n",
       "    .dataframe thead th {\n",
       "        text-align: left;\n",
       "    }\n",
       "\n",
       "    .dataframe tbody tr th {\n",
       "        vertical-align: top;\n",
       "    }\n",
       "</style>\n",
       "<table border=\"1\" class=\"dataframe\">\n",
       "  <thead>\n",
       "    <tr style=\"text-align: right;\">\n",
       "      <th></th>\n",
       "      <th>LOC_X</th>\n",
       "      <th>LOC_Y</th>\n",
       "      <th>ACTION_TYPE_Alley Oop Layup shot</th>\n",
       "      <th>ACTION_TYPE_Cutting Layup Shot</th>\n",
       "      <th>ACTION_TYPE_Driving Dunk Shot</th>\n",
       "      <th>ACTION_TYPE_Driving Finger Roll Layup Shot</th>\n",
       "      <th>ACTION_TYPE_Driving Floating Bank Jump Shot</th>\n",
       "      <th>ACTION_TYPE_Driving Floating Jump Shot</th>\n",
       "      <th>ACTION_TYPE_Driving Layup Shot</th>\n",
       "      <th>ACTION_TYPE_Driving Reverse Layup Shot</th>\n",
       "      <th>ACTION_TYPE_Fadeaway Jump Shot</th>\n",
       "      <th>ACTION_TYPE_Floating Jump shot</th>\n",
       "      <th>ACTION_TYPE_Jump Bank Shot</th>\n",
       "      <th>ACTION_TYPE_Jump Shot</th>\n",
       "      <th>ACTION_TYPE_Layup Shot</th>\n",
       "      <th>ACTION_TYPE_Pullup Jump shot</th>\n",
       "      <th>ACTION_TYPE_Putback Layup Shot</th>\n",
       "      <th>ACTION_TYPE_Reverse Layup Shot</th>\n",
       "      <th>ACTION_TYPE_Running Dunk Shot</th>\n",
       "      <th>ACTION_TYPE_Running Finger Roll Layup Shot</th>\n",
       "      <th>ACTION_TYPE_Running Jump Shot</th>\n",
       "      <th>ACTION_TYPE_Running Layup Shot</th>\n",
       "      <th>ACTION_TYPE_Running Pull-Up Jump Shot</th>\n",
       "      <th>ACTION_TYPE_Step Back Jump shot</th>\n",
       "      <th>ACTION_TYPE_Tip Layup Shot</th>\n",
       "      <th>ACTION_TYPE_Turnaround Fadeaway shot</th>\n",
       "      <th>ACTION_TYPE_Turnaround Hook Shot</th>\n",
       "      <th>ACTION_TYPE_Turnaround Jump Shot</th>\n",
       "      <th>EVENT_TYPE_Made Shot</th>\n",
       "      <th>EVENT_TYPE_Missed Shot</th>\n",
       "    </tr>\n",
       "  </thead>\n",
       "  <tbody>\n",
       "    <tr>\n",
       "      <th>0</th>\n",
       "      <td>101</td>\n",
       "      <td>10</td>\n",
       "      <td>0</td>\n",
       "      <td>0</td>\n",
       "      <td>0</td>\n",
       "      <td>0</td>\n",
       "      <td>0</td>\n",
       "      <td>0</td>\n",
       "      <td>0</td>\n",
       "      <td>0</td>\n",
       "      <td>0</td>\n",
       "      <td>0</td>\n",
       "      <td>0</td>\n",
       "      <td>1</td>\n",
       "      <td>0</td>\n",
       "      <td>0</td>\n",
       "      <td>0</td>\n",
       "      <td>0</td>\n",
       "      <td>0</td>\n",
       "      <td>0</td>\n",
       "      <td>0</td>\n",
       "      <td>0</td>\n",
       "      <td>0</td>\n",
       "      <td>0</td>\n",
       "      <td>0</td>\n",
       "      <td>0</td>\n",
       "      <td>0</td>\n",
       "      <td>0</td>\n",
       "      <td>0</td>\n",
       "      <td>1</td>\n",
       "    </tr>\n",
       "    <tr>\n",
       "      <th>1</th>\n",
       "      <td>3</td>\n",
       "      <td>6</td>\n",
       "      <td>0</td>\n",
       "      <td>0</td>\n",
       "      <td>0</td>\n",
       "      <td>0</td>\n",
       "      <td>0</td>\n",
       "      <td>0</td>\n",
       "      <td>0</td>\n",
       "      <td>0</td>\n",
       "      <td>0</td>\n",
       "      <td>0</td>\n",
       "      <td>0</td>\n",
       "      <td>0</td>\n",
       "      <td>0</td>\n",
       "      <td>0</td>\n",
       "      <td>0</td>\n",
       "      <td>1</td>\n",
       "      <td>0</td>\n",
       "      <td>0</td>\n",
       "      <td>0</td>\n",
       "      <td>0</td>\n",
       "      <td>0</td>\n",
       "      <td>0</td>\n",
       "      <td>0</td>\n",
       "      <td>0</td>\n",
       "      <td>0</td>\n",
       "      <td>0</td>\n",
       "      <td>0</td>\n",
       "      <td>1</td>\n",
       "    </tr>\n",
       "    <tr>\n",
       "      <th>2</th>\n",
       "      <td>147</td>\n",
       "      <td>17</td>\n",
       "      <td>0</td>\n",
       "      <td>0</td>\n",
       "      <td>0</td>\n",
       "      <td>0</td>\n",
       "      <td>0</td>\n",
       "      <td>0</td>\n",
       "      <td>0</td>\n",
       "      <td>0</td>\n",
       "      <td>0</td>\n",
       "      <td>0</td>\n",
       "      <td>0</td>\n",
       "      <td>1</td>\n",
       "      <td>0</td>\n",
       "      <td>0</td>\n",
       "      <td>0</td>\n",
       "      <td>0</td>\n",
       "      <td>0</td>\n",
       "      <td>0</td>\n",
       "      <td>0</td>\n",
       "      <td>0</td>\n",
       "      <td>0</td>\n",
       "      <td>0</td>\n",
       "      <td>0</td>\n",
       "      <td>0</td>\n",
       "      <td>0</td>\n",
       "      <td>0</td>\n",
       "      <td>0</td>\n",
       "      <td>1</td>\n",
       "    </tr>\n",
       "    <tr>\n",
       "      <th>3</th>\n",
       "      <td>3</td>\n",
       "      <td>11</td>\n",
       "      <td>0</td>\n",
       "      <td>0</td>\n",
       "      <td>0</td>\n",
       "      <td>0</td>\n",
       "      <td>0</td>\n",
       "      <td>0</td>\n",
       "      <td>1</td>\n",
       "      <td>0</td>\n",
       "      <td>0</td>\n",
       "      <td>0</td>\n",
       "      <td>0</td>\n",
       "      <td>0</td>\n",
       "      <td>0</td>\n",
       "      <td>0</td>\n",
       "      <td>0</td>\n",
       "      <td>0</td>\n",
       "      <td>0</td>\n",
       "      <td>0</td>\n",
       "      <td>0</td>\n",
       "      <td>0</td>\n",
       "      <td>0</td>\n",
       "      <td>0</td>\n",
       "      <td>0</td>\n",
       "      <td>0</td>\n",
       "      <td>0</td>\n",
       "      <td>0</td>\n",
       "      <td>1</td>\n",
       "      <td>0</td>\n",
       "    </tr>\n",
       "    <tr>\n",
       "      <th>4</th>\n",
       "      <td>119</td>\n",
       "      <td>243</td>\n",
       "      <td>0</td>\n",
       "      <td>0</td>\n",
       "      <td>0</td>\n",
       "      <td>0</td>\n",
       "      <td>0</td>\n",
       "      <td>0</td>\n",
       "      <td>0</td>\n",
       "      <td>0</td>\n",
       "      <td>0</td>\n",
       "      <td>0</td>\n",
       "      <td>0</td>\n",
       "      <td>1</td>\n",
       "      <td>0</td>\n",
       "      <td>0</td>\n",
       "      <td>0</td>\n",
       "      <td>0</td>\n",
       "      <td>0</td>\n",
       "      <td>0</td>\n",
       "      <td>0</td>\n",
       "      <td>0</td>\n",
       "      <td>0</td>\n",
       "      <td>0</td>\n",
       "      <td>0</td>\n",
       "      <td>0</td>\n",
       "      <td>0</td>\n",
       "      <td>0</td>\n",
       "      <td>0</td>\n",
       "      <td>1</td>\n",
       "    </tr>\n",
       "  </tbody>\n",
       "</table>\n",
       "</div>"
      ],
      "text/plain": [
       "   LOC_X  LOC_Y  ACTION_TYPE_Alley Oop Layup shot  ACTION_TYPE_Cutting Layup Shot  ACTION_TYPE_Driving Dunk Shot  ACTION_TYPE_Driving Finger Roll Layup Shot  ACTION_TYPE_Driving Floating Bank Jump Shot  ACTION_TYPE_Driving Floating Jump Shot  ACTION_TYPE_Driving Layup Shot  ACTION_TYPE_Driving Reverse Layup Shot  ACTION_TYPE_Fadeaway Jump Shot  ACTION_TYPE_Floating Jump shot  ACTION_TYPE_Jump Bank Shot  ACTION_TYPE_Jump Shot  ACTION_TYPE_Layup Shot  ACTION_TYPE_Pullup Jump shot  ACTION_TYPE_Putback Layup Shot  ACTION_TYPE_Reverse Layup Shot  ACTION_TYPE_Running Dunk Shot  ACTION_TYPE_Running Finger Roll Layup Shot  ACTION_TYPE_Running Jump Shot  ACTION_TYPE_Running Layup Shot  ACTION_TYPE_Running Pull-Up Jump Shot  ACTION_TYPE_Step Back Jump shot  ACTION_TYPE_Tip Layup Shot  ACTION_TYPE_Turnaround Fadeaway shot  ACTION_TYPE_Turnaround Hook Shot  ACTION_TYPE_Turnaround Jump Shot  EVENT_TYPE_Made Shot  EVENT_TYPE_Missed Shot\n",
       "0    101     10                                 0                               0                              0                                           0                                            0                                       0                               0                                       0                               0                               0                           0                      1                       0                             0                               0                               0                              0                                           0                              0                               0                                      0                                0                           0                                     0                                 0                                 0                     0                       1\n",
       "1      3      6                                 0                               0                              0                                           0                                            0                                       0                               0                                       0                               0                               0                           0                      0                       0                             0                               0                               1                              0                                           0                              0                               0                                      0                                0                           0                                     0                                 0                                 0                     0                       1\n",
       "2    147     17                                 0                               0                              0                                           0                                            0                                       0                               0                                       0                               0                               0                           0                      1                       0                             0                               0                               0                              0                                           0                              0                               0                                      0                                0                           0                                     0                                 0                                 0                     0                       1\n",
       "3      3     11                                 0                               0                              0                                           0                                            0                                       0                               1                                       0                               0                               0                           0                      0                       0                             0                               0                               0                              0                                           0                              0                               0                                      0                                0                           0                                     0                                 0                                 0                     1                       0\n",
       "4    119    243                                 0                               0                              0                                           0                                            0                                       0                               0                                       0                               0                               0                           0                      1                       0                             0                               0                               0                              0                                           0                              0                               0                                      0                                0                           0                                     0                                 0                                 0                     0                       1"
      ]
     },
     "execution_count": 9,
     "metadata": {},
     "output_type": "execute_result"
    }
   ],
   "source": [
    "spencertable.head()"
   ]
  },
  {
   "cell_type": "code",
   "execution_count": 10,
   "metadata": {},
   "outputs": [
    {
     "name": "stderr",
     "output_type": "stream",
     "text": [
      "/Users/noahkasmanoff/anaconda/lib/python3.6/site-packages/sklearn/cross_validation.py:41: DeprecationWarning: This module was deprecated in version 0.18 in favor of the model_selection module into which all the refactored classes and functions are moved. Also note that the interface of the new CV iterators are different from that of this module. This module will be removed in 0.20.\n",
      "  \"This module will be removed in 0.20.\", DeprecationWarning)\n"
     ]
    }
   ],
   "source": [
    "from sklearn import preprocessing, cross_validation, neighbors\n"
   ]
  },
  {
   "cell_type": "code",
   "execution_count": 11,
   "metadata": {},
   "outputs": [],
   "source": [
    "y = spencertable[['EVENT_TYPE_Made Shot','EVENT_TYPE_Missed Shot']].values\n",
    "\n",
    "del spencertable['EVENT_TYPE_Made Shot'],spencertable['EVENT_TYPE_Missed Shot']"
   ]
  },
  {
   "cell_type": "code",
   "execution_count": 12,
   "metadata": {},
   "outputs": [],
   "source": [
    "X = spencertable.values"
   ]
  },
  {
   "cell_type": "code",
   "execution_count": 13,
   "metadata": {
    "collapsed": true
   },
   "outputs": [],
   "source": [
    "X_train,X_test,y_train,y_test = cross_validation.train_test_split(X,y,test_size=0.2)\n"
   ]
  },
  {
   "cell_type": "code",
   "execution_count": 14,
   "metadata": {},
   "outputs": [
    {
     "data": {
      "text/plain": [
       "KNeighborsClassifier(algorithm='auto', leaf_size=30, metric='minkowski',\n",
       "           metric_params=None, n_jobs=1, n_neighbors=5, p=2,\n",
       "           weights='uniform')"
      ]
     },
     "execution_count": 14,
     "metadata": {},
     "output_type": "execute_result"
    }
   ],
   "source": [
    "clf = neighbors.KNeighborsClassifier()\n",
    "clf.fit(X_train,y_train)\n"
   ]
  },
  {
   "cell_type": "code",
   "execution_count": 15,
   "metadata": {},
   "outputs": [
    {
     "name": "stdout",
     "output_type": "stream",
     "text": [
      "0.6785714285714286\n"
     ]
    }
   ],
   "source": [
    "\n",
    "accuracy = clf.score(X_test,y_test)\n",
    "print(accuracy)"
   ]
  },
  {
   "cell_type": "code",
   "execution_count": null,
   "metadata": {
    "collapsed": true
   },
   "outputs": [],
   "source": []
  }
 ],
 "metadata": {
  "kernelspec": {
   "display_name": "Python 3",
   "language": "python",
   "name": "python3"
  },
  "language_info": {
   "codemirror_mode": {
    "name": "ipython",
    "version": 3
   },
   "file_extension": ".py",
   "mimetype": "text/x-python",
   "name": "python",
   "nbconvert_exporter": "python",
   "pygments_lexer": "ipython3",
   "version": "3.6.1"
  }
 },
 "nbformat": 4,
 "nbformat_minor": 2
}
