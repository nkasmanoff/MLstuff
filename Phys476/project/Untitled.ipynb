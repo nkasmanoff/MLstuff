{
 "cells": [
  {
   "cell_type": "code",
   "execution_count": 1,
   "metadata": {
    "collapsed": true
   },
   "outputs": [],
   "source": [
    "from nba_py import player"
   ]
  },
  {
   "cell_type": "code",
   "execution_count": null,
   "metadata": {
    "collapsed": true
   },
   "outputs": [],
   "source": [
    "player.PlayerCareer(player_id=)"
   ]
  },
  {
   "cell_type": "code",
   "execution_count": null,
   "metadata": {
    "collapsed": true
   },
   "outputs": [],
   "source": [
    "    playa = player.get_player(first_name=first_name,last_name=last_name)\n"
   ]
  },
  {
   "cell_type": "code",
   "execution_count": 6,
   "metadata": {},
   "outputs": [
    {
     "data": {
      "text/plain": [
       "1083    203954\n",
       "Name: PERSON_ID, dtype: int64"
      ]
     },
     "execution_count": 6,
     "metadata": {},
     "output_type": "execute_result"
    }
   ],
   "source": [
    "player.get_player(first_name='Joel',last_name='Embiid')"
   ]
  },
  {
   "cell_type": "code",
   "execution_count": 15,
   "metadata": {
    "collapsed": true
   },
   "outputs": [],
   "source": [
    "lebron = player.PlayerCareer(player_id=2544)"
   ]
  },
  {
   "cell_type": "code",
   "execution_count": 16,
   "metadata": {},
   "outputs": [
    {
     "data": {
      "text/html": [
       "<div>\n",
       "<style>\n",
       "    .dataframe thead tr:only-child th {\n",
       "        text-align: right;\n",
       "    }\n",
       "\n",
       "    .dataframe thead th {\n",
       "        text-align: left;\n",
       "    }\n",
       "\n",
       "    .dataframe tbody tr th {\n",
       "        vertical-align: top;\n",
       "    }\n",
       "</style>\n",
       "<table border=\"1\" class=\"dataframe\">\n",
       "  <thead>\n",
       "    <tr style=\"text-align: right;\">\n",
       "      <th></th>\n",
       "      <th>PLAYER_ID</th>\n",
       "      <th>LEAGUE_ID</th>\n",
       "      <th>Team_ID</th>\n",
       "      <th>GP</th>\n",
       "      <th>GS</th>\n",
       "      <th>MIN</th>\n",
       "      <th>FGM</th>\n",
       "      <th>FGA</th>\n",
       "      <th>FG_PCT</th>\n",
       "      <th>FG3M</th>\n",
       "      <th>...</th>\n",
       "      <th>FT_PCT</th>\n",
       "      <th>OREB</th>\n",
       "      <th>DREB</th>\n",
       "      <th>REB</th>\n",
       "      <th>AST</th>\n",
       "      <th>STL</th>\n",
       "      <th>BLK</th>\n",
       "      <th>TOV</th>\n",
       "      <th>PF</th>\n",
       "      <th>PTS</th>\n",
       "    </tr>\n",
       "  </thead>\n",
       "  <tbody>\n",
       "    <tr>\n",
       "      <th>0</th>\n",
       "      <td>2544</td>\n",
       "      <td>00</td>\n",
       "      <td>0</td>\n",
       "      <td>227</td>\n",
       "      <td>227</td>\n",
       "      <td>42.0</td>\n",
       "      <td>10.2</td>\n",
       "      <td>20.8</td>\n",
       "      <td>0.488</td>\n",
       "      <td>1.5</td>\n",
       "      <td>...</td>\n",
       "      <td>0.743</td>\n",
       "      <td>1.5</td>\n",
       "      <td>7.3</td>\n",
       "      <td>8.9</td>\n",
       "      <td>6.9</td>\n",
       "      <td>1.8</td>\n",
       "      <td>1.0</td>\n",
       "      <td>3.5</td>\n",
       "      <td>2.4</td>\n",
       "      <td>28.7</td>\n",
       "    </tr>\n",
       "  </tbody>\n",
       "</table>\n",
       "<p>1 rows × 24 columns</p>\n",
       "</div>"
      ],
      "text/plain": [
       "   PLAYER_ID LEAGUE_ID  Team_ID   GP   GS   MIN   FGM   FGA  FG_PCT  FG3M  \\\n",
       "0       2544        00        0  227  227  42.0  10.2  20.8   0.488   1.5   \n",
       "\n",
       "   ...   FT_PCT  OREB  DREB  REB  AST  STL  BLK  TOV   PF   PTS  \n",
       "0  ...    0.743   1.5   7.3  8.9  6.9  1.8  1.0  3.5  2.4  28.7  \n",
       "\n",
       "[1 rows x 24 columns]"
      ]
     },
     "execution_count": 16,
     "metadata": {},
     "output_type": "execute_result"
    }
   ],
   "source": [
    "lebron.post_season_career_totals()"
   ]
  },
  {
   "cell_type": "code",
   "execution_count": 32,
   "metadata": {},
   "outputs": [],
   "source": [
    "lbjD = player.PlayerDefenseTracking(player_id=2544,last_n_games=3)"
   ]
  },
  {
   "cell_type": "code",
   "execution_count": 33,
   "metadata": {},
   "outputs": [
    {
     "data": {
      "text/html": [
       "<div>\n",
       "<style>\n",
       "    .dataframe thead tr:only-child th {\n",
       "        text-align: right;\n",
       "    }\n",
       "\n",
       "    .dataframe thead th {\n",
       "        text-align: left;\n",
       "    }\n",
       "\n",
       "    .dataframe tbody tr th {\n",
       "        vertical-align: top;\n",
       "    }\n",
       "</style>\n",
       "<table border=\"1\" class=\"dataframe\">\n",
       "  <thead>\n",
       "    <tr style=\"text-align: right;\">\n",
       "      <th></th>\n",
       "      <th>CLOSE_DEF_PERSON_ID</th>\n",
       "      <th>GP</th>\n",
       "      <th>G</th>\n",
       "      <th>DEFENSE_CATEGORY</th>\n",
       "      <th>FREQ</th>\n",
       "      <th>D_FGM</th>\n",
       "      <th>D_FGA</th>\n",
       "      <th>D_FG_PCT</th>\n",
       "      <th>NORMAL_FG_PCT</th>\n",
       "      <th>PCT_PLUSMINUS</th>\n",
       "    </tr>\n",
       "  </thead>\n",
       "  <tbody>\n",
       "    <tr>\n",
       "      <th>0</th>\n",
       "      <td>2544</td>\n",
       "      <td>3</td>\n",
       "      <td>3</td>\n",
       "      <td>Overall</td>\n",
       "      <td>1.00</td>\n",
       "      <td>4.67</td>\n",
       "      <td>8.33</td>\n",
       "      <td>0.560</td>\n",
       "      <td>0.473</td>\n",
       "      <td>0.087</td>\n",
       "    </tr>\n",
       "    <tr>\n",
       "      <th>1</th>\n",
       "      <td>2544</td>\n",
       "      <td>3</td>\n",
       "      <td>3</td>\n",
       "      <td>3 Pointers</td>\n",
       "      <td>0.44</td>\n",
       "      <td>1.33</td>\n",
       "      <td>3.67</td>\n",
       "      <td>0.364</td>\n",
       "      <td>0.386</td>\n",
       "      <td>-0.023</td>\n",
       "    </tr>\n",
       "    <tr>\n",
       "      <th>2</th>\n",
       "      <td>2544</td>\n",
       "      <td>3</td>\n",
       "      <td>3</td>\n",
       "      <td>2 Pointers</td>\n",
       "      <td>0.56</td>\n",
       "      <td>3.33</td>\n",
       "      <td>4.67</td>\n",
       "      <td>0.714</td>\n",
       "      <td>0.518</td>\n",
       "      <td>0.196</td>\n",
       "    </tr>\n",
       "    <tr>\n",
       "      <th>3</th>\n",
       "      <td>2544</td>\n",
       "      <td>3</td>\n",
       "      <td>2</td>\n",
       "      <td>Less Than 6 Ft</td>\n",
       "      <td>0.20</td>\n",
       "      <td>1.33</td>\n",
       "      <td>1.67</td>\n",
       "      <td>0.800</td>\n",
       "      <td>0.633</td>\n",
       "      <td>0.167</td>\n",
       "    </tr>\n",
       "    <tr>\n",
       "      <th>4</th>\n",
       "      <td>2544</td>\n",
       "      <td>3</td>\n",
       "      <td>3</td>\n",
       "      <td>Less Than 10 Ft</td>\n",
       "      <td>0.28</td>\n",
       "      <td>1.67</td>\n",
       "      <td>2.33</td>\n",
       "      <td>0.714</td>\n",
       "      <td>0.566</td>\n",
       "      <td>0.148</td>\n",
       "    </tr>\n",
       "    <tr>\n",
       "      <th>5</th>\n",
       "      <td>2544</td>\n",
       "      <td>3</td>\n",
       "      <td>3</td>\n",
       "      <td>Greater Than 15 Ft</td>\n",
       "      <td>0.68</td>\n",
       "      <td>2.67</td>\n",
       "      <td>5.67</td>\n",
       "      <td>0.471</td>\n",
       "      <td>0.414</td>\n",
       "      <td>0.057</td>\n",
       "    </tr>\n",
       "  </tbody>\n",
       "</table>\n",
       "</div>"
      ],
      "text/plain": [
       "   CLOSE_DEF_PERSON_ID  GP  G    DEFENSE_CATEGORY  FREQ  D_FGM  D_FGA  \\\n",
       "0                 2544   3  3             Overall  1.00   4.67   8.33   \n",
       "1                 2544   3  3          3 Pointers  0.44   1.33   3.67   \n",
       "2                 2544   3  3          2 Pointers  0.56   3.33   4.67   \n",
       "3                 2544   3  2      Less Than 6 Ft  0.20   1.33   1.67   \n",
       "4                 2544   3  3     Less Than 10 Ft  0.28   1.67   2.33   \n",
       "5                 2544   3  3  Greater Than 15 Ft  0.68   2.67   5.67   \n",
       "\n",
       "   D_FG_PCT  NORMAL_FG_PCT  PCT_PLUSMINUS  \n",
       "0     0.560          0.473          0.087  \n",
       "1     0.364          0.386         -0.023  \n",
       "2     0.714          0.518          0.196  \n",
       "3     0.800          0.633          0.167  \n",
       "4     0.714          0.566          0.148  \n",
       "5     0.471          0.414          0.057  "
      ]
     },
     "execution_count": 33,
     "metadata": {},
     "output_type": "execute_result"
    }
   ],
   "source": [
    "lbjD.overall()"
   ]
  },
  {
   "cell_type": "code",
   "execution_count": 7,
   "metadata": {
    "collapsed": true
   },
   "outputs": [],
   "source": [
    "embiid = 203954"
   ]
  },
  {
   "cell_type": "code",
   "execution_count": 26,
   "metadata": {
    "collapsed": true
   },
   "outputs": [],
   "source": [
    "embiidD = player.PlayerDefenseTracking(player_id=embiid,last_n_games=11)"
   ]
  },
  {
   "cell_type": "code",
   "execution_count": 27,
   "metadata": {},
   "outputs": [
    {
     "data": {
      "text/html": [
       "<div>\n",
       "<style>\n",
       "    .dataframe thead tr:only-child th {\n",
       "        text-align: right;\n",
       "    }\n",
       "\n",
       "    .dataframe thead th {\n",
       "        text-align: left;\n",
       "    }\n",
       "\n",
       "    .dataframe tbody tr th {\n",
       "        vertical-align: top;\n",
       "    }\n",
       "</style>\n",
       "<table border=\"1\" class=\"dataframe\">\n",
       "  <thead>\n",
       "    <tr style=\"text-align: right;\">\n",
       "      <th></th>\n",
       "      <th>CLOSE_DEF_PERSON_ID</th>\n",
       "      <th>GP</th>\n",
       "      <th>G</th>\n",
       "      <th>DEFENSE_CATEGORY</th>\n",
       "      <th>FREQ</th>\n",
       "      <th>D_FGM</th>\n",
       "      <th>D_FGA</th>\n",
       "      <th>D_FG_PCT</th>\n",
       "      <th>NORMAL_FG_PCT</th>\n",
       "      <th>PCT_PLUSMINUS</th>\n",
       "    </tr>\n",
       "  </thead>\n",
       "  <tbody>\n",
       "    <tr>\n",
       "      <th>0</th>\n",
       "      <td>203954</td>\n",
       "      <td>3</td>\n",
       "      <td>3</td>\n",
       "      <td>Overall</td>\n",
       "      <td>1.000</td>\n",
       "      <td>4.00</td>\n",
       "      <td>13.00</td>\n",
       "      <td>0.308</td>\n",
       "      <td>0.504</td>\n",
       "      <td>-0.197</td>\n",
       "    </tr>\n",
       "    <tr>\n",
       "      <th>1</th>\n",
       "      <td>203954</td>\n",
       "      <td>3</td>\n",
       "      <td>2</td>\n",
       "      <td>3 Pointers</td>\n",
       "      <td>0.179</td>\n",
       "      <td>0.67</td>\n",
       "      <td>2.33</td>\n",
       "      <td>0.286</td>\n",
       "      <td>0.397</td>\n",
       "      <td>-0.111</td>\n",
       "    </tr>\n",
       "    <tr>\n",
       "      <th>2</th>\n",
       "      <td>203954</td>\n",
       "      <td>3</td>\n",
       "      <td>3</td>\n",
       "      <td>2 Pointers</td>\n",
       "      <td>0.821</td>\n",
       "      <td>3.33</td>\n",
       "      <td>10.67</td>\n",
       "      <td>0.313</td>\n",
       "      <td>0.539</td>\n",
       "      <td>-0.227</td>\n",
       "    </tr>\n",
       "    <tr>\n",
       "      <th>3</th>\n",
       "      <td>203954</td>\n",
       "      <td>3</td>\n",
       "      <td>3</td>\n",
       "      <td>Less Than 6 Ft</td>\n",
       "      <td>0.462</td>\n",
       "      <td>2.00</td>\n",
       "      <td>6.00</td>\n",
       "      <td>0.333</td>\n",
       "      <td>0.631</td>\n",
       "      <td>-0.298</td>\n",
       "    </tr>\n",
       "    <tr>\n",
       "      <th>4</th>\n",
       "      <td>203954</td>\n",
       "      <td>3</td>\n",
       "      <td>3</td>\n",
       "      <td>Less Than 10 Ft</td>\n",
       "      <td>0.564</td>\n",
       "      <td>2.33</td>\n",
       "      <td>7.33</td>\n",
       "      <td>0.318</td>\n",
       "      <td>0.580</td>\n",
       "      <td>-0.262</td>\n",
       "    </tr>\n",
       "    <tr>\n",
       "      <th>5</th>\n",
       "      <td>203954</td>\n",
       "      <td>3</td>\n",
       "      <td>3</td>\n",
       "      <td>Greater Than 15 Ft</td>\n",
       "      <td>0.385</td>\n",
       "      <td>1.00</td>\n",
       "      <td>5.00</td>\n",
       "      <td>0.200</td>\n",
       "      <td>0.392</td>\n",
       "      <td>-0.192</td>\n",
       "    </tr>\n",
       "  </tbody>\n",
       "</table>\n",
       "</div>"
      ],
      "text/plain": [
       "   CLOSE_DEF_PERSON_ID  GP  G    DEFENSE_CATEGORY   FREQ  D_FGM  D_FGA  \\\n",
       "0               203954   3  3             Overall  1.000   4.00  13.00   \n",
       "1               203954   3  2          3 Pointers  0.179   0.67   2.33   \n",
       "2               203954   3  3          2 Pointers  0.821   3.33  10.67   \n",
       "3               203954   3  3      Less Than 6 Ft  0.462   2.00   6.00   \n",
       "4               203954   3  3     Less Than 10 Ft  0.564   2.33   7.33   \n",
       "5               203954   3  3  Greater Than 15 Ft  0.385   1.00   5.00   \n",
       "\n",
       "   D_FG_PCT  NORMAL_FG_PCT  PCT_PLUSMINUS  \n",
       "0     0.308          0.504         -0.197  \n",
       "1     0.286          0.397         -0.111  \n",
       "2     0.313          0.539         -0.227  \n",
       "3     0.333          0.631         -0.298  \n",
       "4     0.318          0.580         -0.262  \n",
       "5     0.200          0.392         -0.192  "
      ]
     },
     "execution_count": 27,
     "metadata": {},
     "output_type": "execute_result"
    }
   ],
   "source": [
    "embiidD.overall()"
   ]
  },
  {
   "cell_type": "code",
   "execution_count": null,
   "metadata": {
    "collapsed": true
   },
   "outputs": [],
   "source": []
  }
 ],
 "metadata": {
  "kernelspec": {
   "display_name": "Python 3",
   "language": "python",
   "name": "python3"
  },
  "language_info": {
   "codemirror_mode": {
    "name": "ipython",
    "version": 3
   },
   "file_extension": ".py",
   "mimetype": "text/x-python",
   "name": "python",
   "nbconvert_exporter": "python",
   "pygments_lexer": "ipython3",
   "version": "3.6.1"
  }
 },
 "nbformat": 4,
 "nbformat_minor": 2
}
