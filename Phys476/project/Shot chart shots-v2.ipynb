{
 "cells": [
  {
   "cell_type": "markdown",
   "metadata": {},
   "source": [
    "Using the shot chart avaialable for each nba player via the nba api to create a machine learning routine that should be capable of predicting whether or not a basket will go in.\n",
    "\n",
    "Variables include position, coverage, and time. \n",
    "\n",
    "Making it one big function that way as soon as you end the player, its done\n",
    "\n",
    "All this analysis is data science, machine learning is the clustering stuff. "
   ]
  },
  {
   "cell_type": "markdown",
   "metadata": {},
   "source": [
    "Shot Chart Analysis\n",
    "===========\n",
    "\n",
    "\n",
    "In this notebook, available shot chart data avalaible via the nba api \"nba_py\" is leveraged in order to characterize a given NBA player's behavior on the court. \n",
    "\n",
    "\n",
    "Additionally different Machine Learning routines are used in order to help predict the outcome of a particular shot. By accounting for the position of the player during the shot, as well as what form it is (jump shot, post up, fade away, etc.). These routines are found to yield a relatively successful result, aswell as help identify the players hot and cold spots. \n"
   ]
  },
  {
   "cell_type": "code",
   "execution_count": 1,
   "metadata": {},
   "outputs": [
    {
     "name": "stderr",
     "output_type": "stream",
     "text": [
      "/Users/noahkasmanoff/anaconda/lib/python3.6/site-packages/sklearn/cross_validation.py:41: DeprecationWarning: This module was deprecated in version 0.18 in favor of the model_selection module into which all the refactored classes and functions are moved. Also note that the interface of the new CV iterators are different from that of this module. This module will be removed in 0.20.\n",
      "  \"This module will be removed in 0.20.\", DeprecationWarning)\n"
     ]
    }
   ],
   "source": [
    "from nba_py import player\n",
    "import numpy as np\n",
    "import pandas as pd\n",
    "pd.set_option('display.max_rows', 500)\n",
    "pd.set_option('display.max_columns', 500)\n",
    "pd.set_option('display.width', 1000)\n",
    "np.random.seed(4)  #replication purposes.\n",
    "import matplotlib.pyplot as plt\n",
    "from sklearn import preprocessing, cross_validation, neighbors\n",
    "from sklearn.neural_network import MLPClassifier\n",
    "from nba_py import shotchart\n",
    "from sklearn.cluster import SpectralClustering\n",
    "from sklearn.preprocessing import MinMaxScaler\n",
    "\n",
    "%matplotlib inline"
   ]
  },
  {
   "cell_type": "code",
   "execution_count": 2,
   "metadata": {
    "collapsed": true
   },
   "outputs": [],
   "source": [
    "import nba_py"
   ]
  },
  {
   "cell_type": "code",
   "execution_count": 3,
   "metadata": {
    "collapsed": true
   },
   "outputs": [],
   "source": [
    "day = nba_py.Scoreboard()"
   ]
  },
  {
   "cell_type": "code",
   "execution_count": null,
   "metadata": {
    "collapsed": true
   },
   "outputs": [],
   "source": [
    "day.line_score()"
   ]
  },
  {
   "cell_type": "code",
   "execution_count": null,
   "metadata": {
    "collapsed": true
   },
   "outputs": [],
   "source": [
    "players = player.PlayerList()"
   ]
  },
  {
   "cell_type": "code",
   "execution_count": null,
   "metadata": {
    "collapsed": true
   },
   "outputs": [],
   "source": [
    "playersdf = players.info()"
   ]
  },
  {
   "cell_type": "code",
   "execution_count": null,
   "metadata": {
    "collapsed": true
   },
   "outputs": [],
   "source": [
    "playersdf"
   ]
  },
  {
   "cell_type": "code",
   "execution_count": null,
   "metadata": {
    "collapsed": true
   },
   "outputs": [],
   "source": [
    "PIDs = playersdf['PERSON_ID'].valuues"
   ]
  },
  {
   "cell_type": "code",
   "execution_count": null,
   "metadata": {
    "collapsed": true
   },
   "outputs": [],
   "source": [
    "stevenadams = 203500"
   ]
  },
  {
   "cell_type": "code",
   "execution_count": null,
   "metadata": {
    "collapsed": true
   },
   "outputs": [],
   "source": [
    "chart = shotchart.ShotChart(stevenadams)\n",
    "chartdf = chart.shot_chart()"
   ]
  },
  {
   "cell_type": "code",
   "execution_count": null,
   "metadata": {
    "collapsed": true
   },
   "outputs": [],
   "source": [
    "chartdf"
   ]
  },
  {
   "cell_type": "code",
   "execution_count": null,
   "metadata": {
    "collapsed": true
   },
   "outputs": [],
   "source": [
    "for PID in PIDs:\n",
    "    print(PID)"
   ]
  },
  {
   "cell_type": "code",
   "execution_count": 4,
   "metadata": {
    "collapsed": true
   },
   "outputs": [],
   "source": [
    "def get_PID(first_name,last_name):\n",
    "    \"\"\"Obtains the player ID number of the desired player.\n",
    "    \n",
    "    Parameters\n",
    "    -----------\n",
    "    \n",
    "    first_name: str\n",
    "        First name of player\n",
    "    last_name: str\n",
    "        Last name of player\n",
    "    \n",
    "    Returns\n",
    "    -------\n",
    "    \n",
    "    ID : float\n",
    "        The player's ID number. \n",
    "    \"\"\"\n",
    "    \n",
    "    playa = player.get_player(first_name=first_name,last_name=last_name)\n",
    "    \n",
    "    return playa.values[0]\n",
    "def get_shotchart(PID):\n",
    "    \"\"\"Returns a dataframe of the shotchart.\n",
    "    \"\"\"\n",
    "    chart = shotchart.ShotChart(PID)\n",
    "    chartdf = chart.shot_chart()\n",
    "  #  print(\"head\")\n",
    "  #  print(chartdf.head())\n",
    "  #  importantstuff = chartdf[['LOC_X','LOC_Y','SHOT_DISTANCE','ACTION_TYPE','EVENT_TYPE']].copy()   #['LOC_X','LOC_Y','EVENT_TYPE']\n",
    "    importantstuff = chartdf[['LOC_X','LOC_Y','ACTION_TYPE','EVENT_TYPE']].copy()\n",
    "    importantstuff = pd.get_dummies(importantstuff)\n",
    "    return importantstuff"
   ]
  },
  {
   "cell_type": "code",
   "execution_count": 5,
   "metadata": {
    "collapsed": true
   },
   "outputs": [],
   "source": [
    "def analyze_player(first,last,plot=True,regcluster=True,Classifier=True,spectralcluster=True):\n",
    "    \"\"\"Wrapper function which does everything in one, \n",
    "    no need to specify each table specific to that player right away!\n",
    "    \n",
    "    Parameters\n",
    "    -----------\n",
    "    first and last name of the player, comma separated, string format. \n",
    "    \n",
    "    and a plotting option to see the shot chart, and anything else if I think of it. \n",
    "    and a cluster option to try and use ML to predict whether or not a shot goes in!\n",
    "    \n",
    "    Returns\n",
    "    -------\n",
    "    \n",
    "    Shot chart, clustering success, anything else\n",
    "    \"\"\"\n",
    "    \n",
    "    \n",
    "    PID = get_PID(first,last)\n",
    "    print(first,last,'PID',PID)\n",
    "    playertable =  get_shotchart(PID)\n",
    "    #print(playertable)\n",
    "    if plot: \n",
    "        makes = playertable.loc[playertable['EVENT_TYPE_Missed Shot'] == 0]\n",
    "        misses = playertable.loc[playertable['EVENT_TYPE_Missed Shot'] == 1]\n",
    "        xmade = makes['LOC_X'].values/10\n",
    "        ymade = makes['LOC_Y'].values/10\n",
    "        xmissed = misses['LOC_X'].values/10\n",
    "        ymissed = misses['LOC_Y'].values/10\n",
    "        x = np.linspace(-60,60,100)\n",
    "        #make a 3pt line for reference\n",
    "        for i in range(len(x)):\n",
    "            r = 22\n",
    "            y = np.sqrt(r**2 - x**2)\n",
    "        plt.plot(xmade,ymade,'mo',label = 'made')\n",
    "        plt.plot(xmissed,ymissed,'yx',label = 'missed')\n",
    "        plt.plot(x,y,'k-',label = '~3pt line')\n",
    "        plt.xlim((-25, 25))  \n",
    "        plt.ylim((0, 35))  \n",
    "\n",
    "        plt.title(\"Shot Chart of \" + first + \" \" + last)\n",
    "        plt.xlabel('dist. from hoop (ft)')\n",
    "        plt.ylabel('dist. from hoop (ft)')\n",
    "\n",
    "        plt.legend()\n",
    "        y = playertable[['EVENT_TYPE_Made Shot','EVENT_TYPE_Missed Shot']].values\n",
    "        del playertable['EVENT_TYPE_Made Shot'],playertable['EVENT_TYPE_Missed Shot']\n",
    "        X = playertable.values\n",
    "    if regcluster:\n",
    "        scaler = MinMaxScaler()\n",
    "        MinMaxScaler(copy=True, feature_range=(0, 1))\n",
    "        #neuaral net needs to be normalized, not clustering... would it matter? \n",
    "        scaler.fit(X)\n",
    "        X = scaler.transform(X)\n",
    "        X_train,X_test,y_train,y_test = cross_validation.train_test_split(X,y,test_size=0.2)\n",
    "        clf = neighbors.KNeighborsClassifier()\n",
    "        clf.fit(X_train,y_train)\n",
    "        accuracy = clf.score(X_test,y_test)\n",
    "        print(\"Accuracy of clustering:\",100*accuracy,\"%.\")\n",
    "    if Classifier:\n",
    "        #try a NN, whatever\n",
    "        #normalize rgith ere \n",
    "        scaler = MinMaxScaler()\n",
    "        MinMaxScaler(copy=True, feature_range=(0, 1))\n",
    "        #neuaral net needs to be normalized, not clustering... would it matter? \n",
    "        scaler.fit(X)\n",
    "        X = scaler.transform(X)\n",
    "        X_train,X_test,y_train,y_test = cross_validation.train_test_split(X,y,test_size=0.2)\n",
    "        model = MLPClassifier()\n",
    "        model.shuffle = True\n",
    "        model.fit(X_train,y_train)\n",
    "        accuracy = model.score(X_test,y_test)\n",
    "    \n",
    "        print(\"Accuracy of MLP Classifier:\",100*accuracy,\"%.\")\n",
    "    if spectralcluster:\n",
    "\n",
    "        scaler = MinMaxScaler()\n",
    "        MinMaxScaler(copy=True, feature_range=(0, 1))\n",
    "        #neuaral net needs to be normalized, not clustering... would it matter? \n",
    "        scaler.fit(X)\n",
    "        X = scaler.transform(X)\n",
    "        X_train,X_test,y_train,y_test = cross_validation.train_test_split(X,y,test_size=0.2)\n",
    "        clf = SpectralClustering(n_clusters=2)\n",
    "        clf.fit(X_train,y_train)\n",
    "        accuracy = model.score(X_test,y_test)\n",
    "        print(\"Accuracy of Spectral Clustering:\",100*accuracy,\"%.\")\n",
    "\n"
   ]
  },
  {
   "cell_type": "code",
   "execution_count": 6,
   "metadata": {},
   "outputs": [
    {
     "name": "stdout",
     "output_type": "stream",
     "text": [
      "Lebron James PID 2544\n"
     ]
    },
    {
     "name": "stderr",
     "output_type": "stream",
     "text": [
      "/Users/noahkasmanoff/anaconda/lib/python3.6/site-packages/ipykernel/__main__.py:34: RuntimeWarning: invalid value encountered in sqrt\n",
      "/Users/noahkasmanoff/anaconda/lib/python3.6/site-packages/sklearn/utils/validation.py:475: DataConversionWarning: Data with input dtype int64 was converted to float64 by MinMaxScaler.\n",
      "  warnings.warn(msg, DataConversionWarning)\n"
     ]
    },
    {
     "name": "stdout",
     "output_type": "stream",
     "text": [
      "Accuracy of clustering: 61.39240506329114 %.\n",
      "Accuracy of MLP Classifier: 66.45569620253164 %.\n",
      "Accuracy of Spectral Clustering: 68.0379746835443 %.\n"
     ]
    },
    {
     "data": {
      "image/png": "[encoded data removed]",
      "text/plain": [
       "<matplotlib.figure.Figure at 0x10e3c29e8>"
      ]
     },
     "metadata": {},
     "output_type": "display_data"
    }
   ],
   "source": [
    "analyze_player('Lebron','James')"
   ]
  },
  {
   "cell_type": "code",
   "execution_count": null,
   "metadata": {
    "collapsed": true
   },
   "outputs": [],
   "source": [
    "def analyze_players(plot=False,regcluster=True,Classifier=True,spectralcluster=True):\n",
    "    \"\"\"Wrapper function which does everything in one, \n",
    "    no need to specify each table specific to that player right away!\n",
    "    \n",
    "\n",
    "    Parameters\n",
    "    -----------\n",
    "    PIDSs. Array of all the active nba players, just to see which is best for fitting etc.     \n",
    "    \n",
    "    Returns\n",
    "    -------\n",
    "    \n",
    "    Shot chart, clustering success, anything else\n",
    "    \"\"\"\n",
    "    \n",
    "    players = player.PlayerList() \n",
    "    \n",
    "    playersdf = players.info()\n",
    "    PIDs = playersdf['PERSON_ID'].values\n",
    "    names = playersdf['DISPLAY_FIRST_LAST'].values\n",
    "    for i in range(len(PIDs)):\n",
    "        PID = PIDs[i]\n",
    "        name = names[i]\n",
    "        print(name)\n",
    "        playertable =  get_shotchart(PID)\n",
    "    #print(playertable)\n",
    "        if plot: \n",
    "            makes = playertable.loc[playertable['EVENT_TYPE_Missed Shot'] == 0]\n",
    "            misses = playertable.loc[playertable['EVENT_TYPE_Missed Shot'] == 1]\n",
    "            xmade = makes['LOC_X'].values/10\n",
    "            ymade = makes['LOC_Y'].values/10\n",
    "            xmissed = misses['LOC_X'].values/10\n",
    "            ymissed = misses['LOC_Y'].values/10\n",
    "            x = np.linspace(-60,60,100)\n",
    "        #make a 3pt line for reference\n",
    "            for i in range(len(x)):\n",
    "                r = 22\n",
    "                y = np.sqrt(r**2 - x**2)\n",
    "            plt.plot(xmade,ymade,'mo',label = 'made')\n",
    "            plt.plot(xmissed,ymissed,'yx',label = 'missed')\n",
    "            plt.plot(x,y,'k-',label = '~3pt line')\n",
    "            plt.xlim((-25, 25))  \n",
    "            plt.ylim((0, 35))  \n",
    "\n",
    "            plt.title(\"Shot Chart of \" + first + \" \" + last)\n",
    "            plt.xlabel('dist. from hoop (ft)')\n",
    "            plt.ylabel('dist. from hoop (ft)')\n",
    "\n",
    "            plt.legend()\n",
    "        y = playertable[['EVENT_TYPE_Made Shot','EVENT_TYPE_Missed Shot']].values\n",
    "        del playertable['EVENT_TYPE_Made Shot'],playertable['EVENT_TYPE_Missed Shot']\n",
    "        X = playertable.values\n",
    "        if cluster:\n",
    "            X_train,X_test,y_train,y_test = cross_validation.train_test_split(X,y,test_size=0.2)\n",
    "            clf = neighbors.KNeighborsClassifier()\n",
    "            clf.fit(X_train,y_train)\n",
    "            accuracy = clf.score(X_test,y_test)\n",
    "            print(\"Accuracy of clustering:\",100*accuracy,\"%.\")\n",
    "        if Classifier:\n",
    "        #try a NN, whatever\n",
    "        #normalize rgith ere \n",
    "            from sklearn.preprocessing import MinMaxScaler\n",
    "            scaler = MinMaxScaler()\n",
    "            MinMaxScaler(copy=True, feature_range=(0, 1))\n",
    "\n",
    "            scaler.fit(X)\n",
    "            X = scaler.transform(X)\n",
    "            X_train,X_test,y_train,y_test = cross_validation.train_test_split(X,y,test_size=0.2)\n",
    "            model = MLPClassifier()\n",
    "            model.shuffle = True\n",
    "            model.fit(X_train,y_train)\n",
    "            accuracy = model.score(X_test,y_test)\n",
    "\n",
    "            print(\"Accuracy of MLP Classifier:\",100*accuracy,\"%.\")\n"
   ]
  },
  {
   "cell_type": "code",
   "execution_count": null,
   "metadata": {
    "collapsed": true
   },
   "outputs": [],
   "source": [
    "analyze_players()"
   ]
  },
  {
   "cell_type": "code",
   "execution_count": null,
   "metadata": {
    "collapsed": true
   },
   "outputs": [],
   "source": []
  },
  {
   "cell_type": "code",
   "execution_count": null,
   "metadata": {
    "collapsed": true
   },
   "outputs": [],
   "source": [
    "analyze_player('Alexis','Ajinca')"
   ]
  },
  {
   "cell_type": "code",
   "execution_count": null,
   "metadata": {
    "collapsed": true
   },
   "outputs": [],
   "source": []
  },
  {
   "cell_type": "code",
   "execution_count": null,
   "metadata": {
    "collapsed": true
   },
   "outputs": [],
   "source": []
  },
  {
   "cell_type": "code",
   "execution_count": null,
   "metadata": {
    "collapsed": true
   },
   "outputs": [],
   "source": []
  },
  {
   "cell_type": "markdown",
   "metadata": {},
   "source": [
    "If I had to guess these lines are on the line, so approximately speaking 220 of these units corresponds to 22 feet. Ie divide by 10 to obtain feet. Doing this now!"
   ]
  },
  {
   "cell_type": "code",
   "execution_count": null,
   "metadata": {
    "collapsed": true
   },
   "outputs": [],
   "source": [
    "plt.plot(x,y)"
   ]
  },
  {
   "cell_type": "code",
   "execution_count": null,
   "metadata": {
    "collapsed": true
   },
   "outputs": [],
   "source": []
  }
 ],
 "metadata": {
  "kernelspec": {
   "display_name": "Python 3",
   "language": "python",
   "name": "python3"
  },
  "language_info": {
   "codemirror_mode": {
    "name": "ipython",
    "version": 3
   },
   "file_extension": ".py",
   "mimetype": "text/x-python",
   "name": "python",
   "nbconvert_exporter": "python",
   "pygments_lexer": "ipython3",
   "version": "3.6.1"
  }
 },
 "nbformat": 4,
 "nbformat_minor": 2
}
