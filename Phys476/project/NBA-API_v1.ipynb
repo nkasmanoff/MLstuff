{
 "cells": [
  {
   "cell_type": "code",
   "execution_count": 1,
   "metadata": {
    "collapsed": true
   },
   "outputs": [],
   "source": [
    "from nba_py import game\n",
    "from nba_py import player"
   ]
  },
  {
   "cell_type": "code",
   "execution_count": 2,
   "metadata": {
    "collapsed": true
   },
   "outputs": [],
   "source": [
    "boxscore_summary = game.BoxscoreSummary(\"0021600458\")\n"
   ]
  },
  {
   "cell_type": "code",
   "execution_count": null,
   "metadata": {
    "collapsed": true
   },
   "outputs": [],
   "source": [
    "boxad = game.BoxscoreAdvanced(\"0021600458\")"
   ]
  },
  {
   "cell_type": "code",
   "execution_count": null,
   "metadata": {},
   "outputs": [],
   "source": [
    "boxad.sql_team_advanced()"
   ]
  },
  {
   "cell_type": "code",
   "execution_count": null,
   "metadata": {},
   "outputs": [],
   "source": [
    "boxscore_summary.line_score()"
   ]
  },
  {
   "cell_type": "code",
   "execution_count": null,
   "metadata": {
    "collapsed": true
   },
   "outputs": [],
   "source": [
    "boxad.sql_team_advanced()"
   ]
  },
  {
   "cell_type": "code",
   "execution_count": null,
   "metadata": {},
   "outputs": [],
   "source": [
    "boxscore_summary = game.BoxscoreSummary(\"0001600458\")\n"
   ]
  },
  {
   "cell_type": "code",
   "execution_count": null,
   "metadata": {
    "collapsed": true
   },
   "outputs": [],
   "source": [
    "players = player.PlayerList()"
   ]
  },
  {
   "cell_type": "code",
   "execution_count": null,
   "metadata": {},
   "outputs": [],
   "source": [
    "type(players.info())"
   ]
  },
  {
   "cell_type": "code",
   "execution_count": 9,
   "metadata": {},
   "outputs": [
    {
     "data": {
      "text/html": [
       "<div>\n",
       "<style>\n",
       "    .dataframe thead tr:only-child th {\n",
       "        text-align: right;\n",
       "    }\n",
       "\n",
       "    .dataframe thead th {\n",
       "        text-align: left;\n",
       "    }\n",
       "\n",
       "    .dataframe tbody tr th {\n",
       "        vertical-align: top;\n",
       "    }\n",
       "</style>\n",
       "<table border=\"1\" class=\"dataframe\">\n",
       "  <thead>\n",
       "    <tr style=\"text-align: right;\">\n",
       "      <th></th>\n",
       "      <th>LEAGUE_ID</th>\n",
       "      <th>TEAM_ID</th>\n",
       "      <th>TEAM_ABBREVIATION</th>\n",
       "      <th>TEAM_CITY</th>\n",
       "      <th>PTS_PAINT</th>\n",
       "      <th>PTS_2ND_CHANCE</th>\n",
       "      <th>PTS_FB</th>\n",
       "      <th>LARGEST_LEAD</th>\n",
       "      <th>LEAD_CHANGES</th>\n",
       "      <th>TIMES_TIED</th>\n",
       "      <th>TEAM_TURNOVERS</th>\n",
       "      <th>TOTAL_TURNOVERS</th>\n",
       "      <th>TEAM_REBOUNDS</th>\n",
       "      <th>PTS_OFF_TO</th>\n",
       "    </tr>\n",
       "  </thead>\n",
       "  <tbody>\n",
       "    <tr>\n",
       "      <th>0</th>\n",
       "      <td>00</td>\n",
       "      <td>1610612741</td>\n",
       "      <td>CHI</td>\n",
       "      <td>Chicago</td>\n",
       "      <td>44</td>\n",
       "      <td>20</td>\n",
       "      <td>10</td>\n",
       "      <td>3</td>\n",
       "      <td>2</td>\n",
       "      <td>3</td>\n",
       "      <td>0</td>\n",
       "      <td>14</td>\n",
       "      <td>8</td>\n",
       "      <td>19</td>\n",
       "    </tr>\n",
       "    <tr>\n",
       "      <th>1</th>\n",
       "      <td>00</td>\n",
       "      <td>1610612759</td>\n",
       "      <td>SAS</td>\n",
       "      <td>San Antonio</td>\n",
       "      <td>50</td>\n",
       "      <td>16</td>\n",
       "      <td>14</td>\n",
       "      <td>20</td>\n",
       "      <td>2</td>\n",
       "      <td>3</td>\n",
       "      <td>0</td>\n",
       "      <td>13</td>\n",
       "      <td>5</td>\n",
       "      <td>19</td>\n",
       "    </tr>\n",
       "  </tbody>\n",
       "</table>\n",
       "</div>"
      ],
      "text/plain": [
       "  LEAGUE_ID     TEAM_ID TEAM_ABBREVIATION    TEAM_CITY  PTS_PAINT  \\\n",
       "0        00  1610612741               CHI      Chicago         44   \n",
       "1        00  1610612759               SAS  San Antonio         50   \n",
       "\n",
       "   PTS_2ND_CHANCE  PTS_FB  LARGEST_LEAD  LEAD_CHANGES  TIMES_TIED  \\\n",
       "0              20      10             3             2           3   \n",
       "1              16      14            20             2           3   \n",
       "\n",
       "   TEAM_TURNOVERS  TOTAL_TURNOVERS  TEAM_REBOUNDS  PTS_OFF_TO  \n",
       "0               0               14              8          19  \n",
       "1               0               13              5          19  "
      ]
     },
     "execution_count": 9,
     "metadata": {},
     "output_type": "execute_result"
    }
   ],
   "source": [
    "boxscore_summary.other_stats()"
   ]
  },
  {
   "cell_type": "code",
   "execution_count": 10,
   "metadata": {},
   "outputs": [
    {
     "data": {
      "text/html": [
       "<div>\n",
       "<style>\n",
       "    .dataframe thead tr:only-child th {\n",
       "        text-align: right;\n",
       "    }\n",
       "\n",
       "    .dataframe thead th {\n",
       "        text-align: left;\n",
       "    }\n",
       "\n",
       "    .dataframe tbody tr th {\n",
       "        vertical-align: top;\n",
       "    }\n",
       "</style>\n",
       "<table border=\"1\" class=\"dataframe\">\n",
       "  <thead>\n",
       "    <tr style=\"text-align: right;\">\n",
       "      <th></th>\n",
       "      <th>GAME_DATE_EST</th>\n",
       "      <th>GAME_SEQUENCE</th>\n",
       "      <th>GAME_ID</th>\n",
       "      <th>GAME_STATUS_ID</th>\n",
       "      <th>GAME_STATUS_TEXT</th>\n",
       "      <th>GAMECODE</th>\n",
       "      <th>HOME_TEAM_ID</th>\n",
       "      <th>VISITOR_TEAM_ID</th>\n",
       "      <th>SEASON</th>\n",
       "      <th>LIVE_PERIOD</th>\n",
       "      <th>LIVE_PC_TIME</th>\n",
       "      <th>NATL_TV_BROADCASTER_ABBREVIATION</th>\n",
       "      <th>LIVE_PERIOD_TIME_BCAST</th>\n",
       "      <th>WH_STATUS</th>\n",
       "    </tr>\n",
       "  </thead>\n",
       "  <tbody>\n",
       "    <tr>\n",
       "      <th>0</th>\n",
       "      <td>2016-12-25T00:00:00</td>\n",
       "      <td>3</td>\n",
       "      <td>0021600458</td>\n",
       "      <td>3</td>\n",
       "      <td>Final</td>\n",
       "      <td>20161225/CHISAS</td>\n",
       "      <td>1610612759</td>\n",
       "      <td>1610612741</td>\n",
       "      <td>2016</td>\n",
       "      <td>4</td>\n",
       "      <td></td>\n",
       "      <td>ABC</td>\n",
       "      <td>Q4       - ABC</td>\n",
       "      <td>1</td>\n",
       "    </tr>\n",
       "  </tbody>\n",
       "</table>\n",
       "</div>"
      ],
      "text/plain": [
       "         GAME_DATE_EST  GAME_SEQUENCE     GAME_ID  GAME_STATUS_ID  \\\n",
       "0  2016-12-25T00:00:00              3  0021600458               3   \n",
       "\n",
       "  GAME_STATUS_TEXT         GAMECODE  HOME_TEAM_ID  VISITOR_TEAM_ID SEASON  \\\n",
       "0            Final  20161225/CHISAS    1610612759       1610612741   2016   \n",
       "\n",
       "   LIVE_PERIOD LIVE_PC_TIME NATL_TV_BROADCASTER_ABBREVIATION  \\\n",
       "0            4                                           ABC   \n",
       "\n",
       "  LIVE_PERIOD_TIME_BCAST  WH_STATUS  \n",
       "0         Q4       - ABC          1  "
      ]
     },
     "execution_count": 10,
     "metadata": {},
     "output_type": "execute_result"
    }
   ],
   "source": [
    "boxscore_summary.game_summary()"
   ]
  },
  {
   "cell_type": "markdown",
   "metadata": {},
   "source": [
    "Summary\n",
    "-------\n",
    "It is not possible to mine this data for team rebounds, etc. at least using this API. "
   ]
  },
  {
   "cell_type": "code",
   "execution_count": null,
   "metadata": {
    "collapsed": true
   },
   "outputs": [],
   "source": []
  }
 ],
 "metadata": {
  "kernelspec": {
   "display_name": "Python 3",
   "language": "python",
   "name": "python3"
  },
  "language_info": {
   "codemirror_mode": {
    "name": "ipython",
    "version": 3
   },
   "file_extension": ".py",
   "mimetype": "text/x-python",
   "name": "python",
   "nbconvert_exporter": "python",
   "pygments_lexer": "ipython3",
   "version": "3.6.1"
  }
 },
 "nbformat": 4,
 "nbformat_minor": 2
}
