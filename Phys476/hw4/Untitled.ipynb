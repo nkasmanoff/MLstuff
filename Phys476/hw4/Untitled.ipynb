{
 "cells": [
  {
   "cell_type": "code",
   "execution_count": 1,
   "metadata": {},
   "outputs": [
    {
     "name": "stderr",
     "output_type": "stream",
     "text": [
      "/Users/noahkasmanoff/anaconda/lib/python3.6/site-packages/h5py/__init__.py:34: FutureWarning: Conversion of the second argument of issubdtype from `float` to `np.floating` is deprecated. In future, it will be treated as `np.float64 == np.dtype(float).type`.\n",
      "  from ._conv import register_converters as _register_converters\n",
      "Using TensorFlow backend.\n"
     ]
    }
   ],
   "source": [
    "import os\n",
    "import sys\n",
    "import numpy as np\n",
    "import tensorflow as tf\n",
    "import cv2\n",
    "import time\n",
    "from keras.utils import np_utils\n",
    "from sklearn.preprocessing import LabelEncoder\n",
    "from sklearn.model_selection import train_test_split\n",
    "import math\n",
    "\n"
   ]
  },
  {
   "cell_type": "code",
   "execution_count": 2,
   "metadata": {
    "collapsed": true
   },
   "outputs": [],
   "source": []
  },
  {
   "cell_type": "code",
   "execution_count": 3,
   "metadata": {
    "collapsed": true
   },
   "outputs": [],
   "source": [
    "seed = 4\n",
    "#read in the files, if the images are smaller than [max_rows,max_cols] pad them, if greater we won't use them\n",
    "numChannels = 1\n",
    "max_rows = 200\n",
    "max_cols = 200 #chosen by looking at a histogram of img sizes\n",
    "learning_rate = 0.0001#10e-4 works\n",
    "Epochs = 100\n",
    "batch_size = 100\n",
    "dropout = .5\n",
    "test_size = .05\n",
    "num_input = max_rows*max_cols*numChannels\n",
    "num_classes = len(names)\n",
    "numOut1 = 32\n",
    "numOut2 = 64\n",
    "numOut3 = 128\n",
    "numOut4 = 256\n",
    "numOutF = 1024\n",
    "numOutF2 = 512"
   ]
  },
  {
   "cell_type": "code",
   "execution_count": 4,
   "metadata": {},
   "outputs": [],
   "source": [
    "img_holder = np.zeros(max_rows*max_cols*numChannels)\n",
    "img_file_holder = []\n",
    "img_class_holder = []\n",
    "#determine which files will be good to use and how many of them there are so we can preallocate memory l8er\n",
    "for name in names:\n",
    "    fdir = os.path.join(direc,name)\n",
    "    for f in os.listdir(fdir):\n",
    "        if f[-3:] == 'jpg':\n",
    "            fimg = os.path.join(fdir,f)\n",
    "            img_file_holder.append(fimg)\n",
    "            img_class_holder.append(name)\n",
    "\n",
    "\n"
   ]
  },
  {
   "cell_type": "code",
   "execution_count": null,
   "metadata": {},
   "outputs": [],
   "source": []
  },
  {
   "cell_type": "code",
   "execution_count": null,
   "metadata": {},
   "outputs": [],
   "source": [
    "len(img_file_holder)"
   ]
  },
  {
   "cell_type": "code",
   "execution_count": null,
   "metadata": {
    "collapsed": true
   },
   "outputs": [],
   "source": []
  },
  {
   "cell_type": "code",
   "execution_count": 5,
   "metadata": {},
   "outputs": [
    {
     "ename": "ValueError",
     "evalue": "could not broadcast input array from shape (263,320,3) into shape (32,60,3)",
     "output_type": "error",
     "traceback": [
      "\u001b[0;31m---------------------------------------------------------------------------\u001b[0m",
      "\u001b[0;31mValueError\u001b[0m                                Traceback (most recent call last)",
      "\u001b[0;32m<ipython-input-5-8962a346bcfc>\u001b[0m in \u001b[0;36m<module>\u001b[0;34m()\u001b[0m\n\u001b[1;32m     22\u001b[0m     \u001b[0mrow1\u001b[0m \u001b[0;34m=\u001b[0m \u001b[0mrow0\u001b[0m\u001b[0;34m+\u001b[0m\u001b[0mrows\u001b[0m\u001b[0;34m\u001b[0m\u001b[0m\n\u001b[1;32m     23\u001b[0m     \u001b[0mcol1\u001b[0m \u001b[0;34m=\u001b[0m \u001b[0mcol0\u001b[0m\u001b[0;34m+\u001b[0m\u001b[0mcols\u001b[0m\u001b[0;34m\u001b[0m\u001b[0m\n\u001b[0;32m---> 24\u001b[0;31m     \u001b[0mpadImg\u001b[0m\u001b[0;34m[\u001b[0m\u001b[0mrow0\u001b[0m\u001b[0;34m:\u001b[0m\u001b[0mrow1\u001b[0m\u001b[0;34m,\u001b[0m\u001b[0mcol0\u001b[0m\u001b[0;34m:\u001b[0m\u001b[0mcol1\u001b[0m\u001b[0;34m,\u001b[0m\u001b[0;34m:\u001b[0m\u001b[0;34m]\u001b[0m \u001b[0;34m=\u001b[0m \u001b[0mimg\u001b[0m\u001b[0;34m\u001b[0m\u001b[0m\n\u001b[0m\u001b[1;32m     25\u001b[0m     \u001b[0mflatImg\u001b[0m \u001b[0;34m=\u001b[0m \u001b[0mnp\u001b[0m\u001b[0;34m.\u001b[0m\u001b[0mreshape\u001b[0m\u001b[0;34m(\u001b[0m\u001b[0mresized\u001b[0m\u001b[0;34m,\u001b[0m\u001b[0;34m-\u001b[0m\u001b[0;36m1\u001b[0m\u001b[0;34m)\u001b[0m\u001b[0;34m\u001b[0m\u001b[0m\n\u001b[1;32m     26\u001b[0m     \u001b[0mflatImg\u001b[0m \u001b[0;34m=\u001b[0m \u001b[0;34m(\u001b[0m\u001b[0mflatImg\u001b[0m \u001b[0;34m-\u001b[0m \u001b[0mnp\u001b[0m\u001b[0;34m.\u001b[0m\u001b[0mmean\u001b[0m\u001b[0;34m(\u001b[0m\u001b[0mflatImg\u001b[0m\u001b[0;34m)\u001b[0m\u001b[0;34m)\u001b[0m\u001b[0;34m/\u001b[0m\u001b[0mnp\u001b[0m\u001b[0;34m.\u001b[0m\u001b[0mstd\u001b[0m\u001b[0;34m(\u001b[0m\u001b[0mflatImg\u001b[0m\u001b[0;34m)\u001b[0m\u001b[0;34m\u001b[0m\u001b[0m\n",
      "\u001b[0;31mValueError\u001b[0m: could not broadcast input array from shape (263,320,3) into shape (32,60,3)"
     ]
    }
   ],
   "source": [
    "img_holder = np.zeros((len(img_file_holder),max_rows*max_cols*numChannels),dtype=np.float32) #preallocate memory to hold all img data\n",
    "#squeeze the img into flat arrays and put in holder\n",
    "for idx,fimg in enumerate(img_file_holder):\n",
    "    img = cv2.imread(fimg)\n",
    "    \n",
    "\n",
    "    [rows,cols] = np.shape(img)[0:2]\n",
    "    if rows < max_rows or cols < max_cols:\n",
    "        #smaller\n",
    "        resized = cv2.resize(img,(max_rows,max_cols),interpolation = cv2.INTER_CUBIC)\n",
    "    else:\n",
    "        #bigger\n",
    "        resized = cv2.resize(img,(max_rows,max_cols),interpolation = cv2.INTER_AREA)\n",
    "    \n",
    "    resized = cv2.cvtColor(resized,cv2.COLOR_RGB2GRAY)\n",
    "\n",
    "    padImg = np.zeros((max_rows,max_cols,3),dtype = np.int8)\n",
    "    padR = max_rows-rows\n",
    "    padC = max_cols-cols\n",
    "    row0 = np.floor(padR/2).astype(int)\n",
    "    col0 = np.floor(padC/2).astype(int)\n",
    "    row1 = row0+rows\n",
    "    col1 = col0+cols\n",
    "    padImg[row0:row1,col0:col1,:] = img\n",
    "    flatImg = np.reshape(resized,-1)\n",
    "    flatImg = (flatImg - np.mean(flatImg))/np.std(flatImg)\n",
    "    flatImg = (flatImg-np.min(flatImg))\n",
    "    flatImg = flatImg/np.max(flatImg)\n",
    "    img_holder[idx,:] = flatImg\n",
    "#del img_file_holder"
   ]
  },
  {
   "cell_type": "code",
   "execution_count": null,
   "metadata": {
    "collapsed": true
   },
   "outputs": [],
   "source": [
    "\n",
    "le = LabelEncoder()\n",
    "le.fit(img_class_holder)\n",
    "Y = le.transform(img_class_holder)\n",
    "Y = np_utils.to_categorical(Y)\n",
    "(x_train,x_test,y_train,y_test) = train_test_split(img_holder,Y,test_size = test_size)\n",
    "#del img_holder\n"
   ]
  },
  {
   "cell_type": "code",
   "execution_count": null,
   "metadata": {
    "collapsed": true
   },
   "outputs": [],
   "source": [
    "\n",
    "def luminancy(RGBimg):\n",
    "    return .3*RGBimg[:,:,0]+.6*RGBimg[:,:,1]+.1*RGBimg[:,:,2]\n",
    "img_holder = np.zeros((len(img_file_holder),max_rows*max_cols*numChannels),dtype=np.float32) #preallocate memory to hold all img data\n",
    "#squeeze the img into flat arrays and put in holder\n",
    "for idx,fimg in enumerate(img_file_holder):\n",
    "    img = cv2.imread(fimg)\n",
    "    [rows,cols] = np.shape(img)[0:2]\n",
    "    img = luminancy(img)\n",
    "    #img = cv2.cvtColor(img,cv2.COLOR_RGB2GRAY)\n",
    "    if rows < max_rows: \n",
    "        #smaller\n",
    "        diff = max_rows-rows\n",
    "        padd = np.zeros([diff,cols])\n",
    "        img = np.concatenate((img,padd),0)\n",
    "    else:\n",
    "        #bigger\n",
    "        diff = rows-max_rows\n",
    "        if diff%2 == 0:\n",
    "            #even diff\n",
    "            img = img[int(diff/2):rows-int(diff/2),:]\n",
    "        else:\n",
    "            #odd\n",
    "            img = img[math.ceil(diff/2):rows-math.ceil(diff/2)+1,:]\n",
    "    [rows,cols] = np.shape(img)\n",
    "    if cols < max_cols:\n",
    "        diff = max_cols-cols\n",
    "        padd = np.zeros([rows,diff])\n",
    "        img = np.concatenate((img,padd),1)\n",
    "    else:\n",
    "        #bigger\n",
    "        diff = int(cols-max_cols)\n",
    "        if diff%2 == 0:\n",
    "            #even diff\n",
    "            img = img[:,int(diff/2):cols-int(diff/2)]\n",
    "        else:\n",
    "            #odd\n",
    "            img = img[:,math.ceil(diff/2):cols-math.ceil(diff/2)+1]\n",
    "    flatImg = np.reshape(img,-1)\n",
    "    flatImg = (flatImg - np.mean(flatImg))/np.std(flatImg)\n",
    "    flatImg = (flatImg-np.min(flatImg))\n",
    "    flatImg = flatImg/np.max(flatImg)\n",
    "    img_holder[idx,:] = flatImg\n",
    "    \n",
    "\n",
    "le = LabelEncoder()\n",
    "le.fit(img_class_holder)\n",
    "Y = le.transform(img_class_holder)\n",
    "Y = np_utils.to_categorical(Y)\n",
    "(x_train,x_test,y_train,y_test) = train_test_split(img_holder,Y,test_size = test_size,random_state=seed)\n",
    "        \n",
    "    \n",
    "\n",
    "\n"
   ]
  },
  {
   "cell_type": "code",
   "execution_count": null,
   "metadata": {
    "collapsed": true
   },
   "outputs": [],
   "source": [
    "imtest = img_holder[509]\n",
    "\n",
    "imtest = (255*imtest).astype('int8')\n",
    "imtest = np.reshape(imtest,[max_rows,max_cols])\n",
    "\n",
    "\n",
    "\n"
   ]
  },
  {
   "cell_type": "code",
   "execution_count": null,
   "metadata": {
    "collapsed": true
   },
   "outputs": [],
   "source": []
  },
  {
   "cell_type": "code",
   "execution_count": null,
   "metadata": {
    "collapsed": true
   },
   "outputs": [],
   "source": []
  },
  {
   "cell_type": "code",
   "execution_count": null,
   "metadata": {
    "collapsed": true
   },
   "outputs": [],
   "source": []
  },
  {
   "cell_type": "code",
   "execution_count": null,
   "metadata": {
    "collapsed": true
   },
   "outputs": [],
   "source": []
  },
  {
   "cell_type": "code",
   "execution_count": null,
   "metadata": {
    "collapsed": true
   },
   "outputs": [],
   "source": []
  },
  {
   "cell_type": "code",
   "execution_count": null,
   "metadata": {
    "collapsed": true
   },
   "outputs": [],
   "source": []
  }
 ],
 "metadata": {
  "kernelspec": {
   "display_name": "Python 3",
   "language": "python",
   "name": "python3"
  },
  "language_info": {
   "codemirror_mode": {
    "name": "ipython",
    "version": 3
   },
   "file_extension": ".py",
   "mimetype": "text/x-python",
   "name": "python",
   "nbconvert_exporter": "python",
   "pygments_lexer": "ipython3",
   "version": "3.6.1"
  }
 },
 "nbformat": 4,
 "nbformat_minor": 2
}
