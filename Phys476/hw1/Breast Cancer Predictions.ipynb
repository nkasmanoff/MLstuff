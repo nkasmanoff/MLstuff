{
 "cells": [
  {
   "cell_type": "code",
   "execution_count": null,
   "metadata": {
    "collapsed": true
   },
   "outputs": [],
   "source": []
  },
  {
   "cell_type": "code",
   "execution_count": 1,
   "metadata": {},
   "outputs": [
    {
     "name": "stderr",
     "output_type": "stream",
     "text": [
      "/Users/noahkasmanoff/anaconda/lib/python3.6/site-packages/h5py/__init__.py:34: FutureWarning: Conversion of the second argument of issubdtype from `float` to `np.floating` is deprecated. In future, it will be treated as `np.float64 == np.dtype(float).type`.\n",
      "  from ._conv import register_converters as _register_converters\n",
      "Using TensorFlow backend.\n"
     ]
    }
   ],
   "source": [
    "from keras.models import Sequential\n",
    "from keras.layers import Dense\n",
    "import tensorflow \n",
    "import pandas as pd\n",
    "import numpy as np\n",
    "\n",
    "np.random.seed(7) #why random? "
   ]
  },
  {
   "cell_type": "code",
   "execution_count": 2,
   "metadata": {
    "collapsed": true
   },
   "outputs": [],
   "source": [
    "data = pd.read_csv('cancer.dat', header = None, names = ['ID', 'Clump Thickness', 'Uniformity of Cell Size', 'Uniformity of Cell Shape', 'Marginal Adhesion', 'Single Epithelial Cell Size', 'Bare Nuclei', 'Bland Chromatin', 'Normal Nucleoli','Mitoses','Class'],skiprows=[23,40,139,145,158,164,235,249,275,292,294,297,315,321,411,617]) \n",
    "training = data.sample(frac = 9/10, axis = 0)\n",
    "testing  = data.drop(training.index)\n",
    "\n",
    "#don't need the first column, identity of cells irrelevant for this "
   ]
  },
  {
   "cell_type": "code",
   "execution_count": null,
   "metadata": {
    "collapsed": true
   },
   "outputs": [],
   "source": []
  },
  {
   "cell_type": "code",
   "execution_count": 3,
   "metadata": {},
   "outputs": [],
   "source": [
    "x_train = training.values[:,1:10]\n",
    "#y_train = pd.get_dummies(training['Class']).values\n",
    "y_train = training['Class'].values\n",
    "#y_train[y_train<3] = 0 #hot encoding \n",
    "#y_train[y_train>3] = 1 \n",
    "y_train = pd.get_dummies(training['Class']).values\n",
    "y_test = testing['Class'].values\n",
    "#y_test[y_test<3] = 0 #hot encoding \n",
    "#y_test[y_test>3] = 1 \n",
    "\n",
    "x_test = testing.values[:,1:10]\n",
    "y_test = pd.get_dummies(testing['Class']).values\n",
    "del data"
   ]
  },
  {
   "cell_type": "code",
   "execution_count": null,
   "metadata": {},
   "outputs": [],
   "source": [
    "len(x_train[1])"
   ]
  },
  {
   "cell_type": "code",
   "execution_count": 4,
   "metadata": {
    "collapsed": true
   },
   "outputs": [],
   "source": [
    "\n",
    "model=Sequential()\n",
    "model.add(Dense(12,input_dim=9,activation='relu'))\n",
    "model.add(Dense(15,activation='relu'))\n",
    "model.add(Dense(8,activation='relu'))\n",
    "\n",
    "model.add(Dense(2,activation='sigmoid'))\n",
    "\n",
    "model.compile(loss='binary_crossentropy',optimizer='adam',metrics=['accuracy'])\n"
   ]
  },
  {
   "cell_type": "code",
   "execution_count": 5,
   "metadata": {},
   "outputs": [
    {
     "name": "stdout",
     "output_type": "stream",
     "text": [
      "Train on 492 samples, validate on 123 samples\n",
      "Epoch 1/25\n",
      "492/492 [==============================] - 1s 1ms/step - loss: 0.6931 - acc: 0.6057 - val_loss: 0.6694 - val_acc: 0.6179\n",
      "Epoch 2/25\n",
      "492/492 [==============================] - 0s 68us/step - loss: 0.6455 - acc: 0.6707 - val_loss: 0.6132 - val_acc: 0.7846\n",
      "Epoch 3/25\n",
      "492/492 [==============================] - 0s 73us/step - loss: 0.5864 - acc: 0.7683 - val_loss: 0.5453 - val_acc: 0.8455\n",
      "Epoch 4/25\n",
      "492/492 [==============================] - 0s 69us/step - loss: 0.5324 - acc: 0.8140 - val_loss: 0.4947 - val_acc: 0.8902\n",
      "Epoch 5/25\n",
      "492/492 [==============================] - 0s 68us/step - loss: 0.4841 - acc: 0.8852 - val_loss: 0.4443 - val_acc: 0.9146\n",
      "Epoch 6/25\n",
      "492/492 [==============================] - 0s 66us/step - loss: 0.4378 - acc: 0.8984 - val_loss: 0.3987 - val_acc: 0.9268\n",
      "Epoch 7/25\n",
      "492/492 [==============================] - 0s 79us/step - loss: 0.3948 - acc: 0.9136 - val_loss: 0.3591 - val_acc: 0.9268\n",
      "Epoch 8/25\n",
      "492/492 [==============================] - 0s 92us/step - loss: 0.3593 - acc: 0.9177 - val_loss: 0.3252 - val_acc: 0.9309\n",
      "Epoch 9/25\n",
      "492/492 [==============================] - 0s 68us/step - loss: 0.3316 - acc: 0.9248 - val_loss: 0.3003 - val_acc: 0.9350\n",
      "Epoch 10/25\n",
      "492/492 [==============================] - 0s 76us/step - loss: 0.3029 - acc: 0.9299 - val_loss: 0.2783 - val_acc: 0.9350\n",
      "Epoch 11/25\n",
      "492/492 [==============================] - 0s 76us/step - loss: 0.2817 - acc: 0.9400 - val_loss: 0.2624 - val_acc: 0.9309\n",
      "Epoch 12/25\n",
      "492/492 [==============================] - 0s 72us/step - loss: 0.2629 - acc: 0.9461 - val_loss: 0.2504 - val_acc: 0.9472\n",
      "Epoch 13/25\n",
      "492/492 [==============================] - 0s 79us/step - loss: 0.2472 - acc: 0.9431 - val_loss: 0.2367 - val_acc: 0.9390\n",
      "Epoch 14/25\n",
      "492/492 [==============================] - 0s 74us/step - loss: 0.2327 - acc: 0.9461 - val_loss: 0.2240 - val_acc: 0.9431\n",
      "Epoch 15/25\n",
      "492/492 [==============================] - 0s 67us/step - loss: 0.2199 - acc: 0.9522 - val_loss: 0.2167 - val_acc: 0.9512\n",
      "Epoch 16/25\n",
      "492/492 [==============================] - 0s 75us/step - loss: 0.2078 - acc: 0.9522 - val_loss: 0.2069 - val_acc: 0.9472\n",
      "Epoch 17/25\n",
      "492/492 [==============================] - 0s 80us/step - loss: 0.1971 - acc: 0.9593 - val_loss: 0.1995 - val_acc: 0.9553\n",
      "Epoch 18/25\n",
      "492/492 [==============================] - 0s 85us/step - loss: 0.1869 - acc: 0.9533 - val_loss: 0.1917 - val_acc: 0.9553\n",
      "Epoch 19/25\n",
      "492/492 [==============================] - 0s 85us/step - loss: 0.1749 - acc: 0.9634 - val_loss: 0.1882 - val_acc: 0.9431\n",
      "Epoch 20/25\n",
      "492/492 [==============================] - 0s 77us/step - loss: 0.1615 - acc: 0.9614 - val_loss: 0.1752 - val_acc: 0.9512\n",
      "Epoch 21/25\n",
      "492/492 [==============================] - 0s 74us/step - loss: 0.1530 - acc: 0.9583 - val_loss: 0.1665 - val_acc: 0.9472\n",
      "Epoch 22/25\n",
      "492/492 [==============================] - 0s 75us/step - loss: 0.1413 - acc: 0.9624 - val_loss: 0.1639 - val_acc: 0.9512\n",
      "Epoch 23/25\n",
      "492/492 [==============================] - 0s 68us/step - loss: 0.1335 - acc: 0.9644 - val_loss: 0.1574 - val_acc: 0.9431\n",
      "Epoch 24/25\n",
      "492/492 [==============================] - 0s 74us/step - loss: 0.1270 - acc: 0.9665 - val_loss: 0.1532 - val_acc: 0.9472\n",
      "Epoch 25/25\n",
      "492/492 [==============================] - 0s 67us/step - loss: 0.1225 - acc: 0.9654 - val_loss: 0.1639 - val_acc: 0.9675\n"
     ]
    },
    {
     "data": {
      "text/plain": [
       "<keras.callbacks.History at 0x11fc87898>"
      ]
     },
     "execution_count": 5,
     "metadata": {},
     "output_type": "execute_result"
    }
   ],
   "source": [
    "model.fit(x_train,y_train,batch_size=25,epochs=25,validation_split=.2)"
   ]
  },
  {
   "cell_type": "code",
   "execution_count": null,
   "metadata": {
    "collapsed": true
   },
   "outputs": [],
   "source": [
    "scores = model.evaluate(x_test,x_test)\n",
    "print(\"Testing results: \" + str(scores[1]) \"% accuracy.\")"
   ]
  },
  {
   "cell_type": "code",
   "execution_count": null,
   "metadata": {
    "collapsed": true
   },
   "outputs": [],
   "source": []
  },
  {
   "cell_type": "code",
   "execution_count": null,
   "metadata": {
    "collapsed": true
   },
   "outputs": [],
   "source": []
  },
  {
   "cell_type": "code",
   "execution_count": null,
   "metadata": {
    "collapsed": true
   },
   "outputs": [],
   "source": []
  },
  {
   "cell_type": "code",
   "execution_count": null,
   "metadata": {
    "collapsed": true
   },
   "outputs": [],
   "source": []
  },
  {
   "cell_type": "code",
   "execution_count": null,
   "metadata": {
    "collapsed": true
   },
   "outputs": [],
   "source": [
    "np.shape(y)"
   ]
  },
  {
   "cell_type": "code",
   "execution_count": null,
   "metadata": {
    "collapsed": true
   },
   "outputs": [],
   "source": [
    "#now to generate the Neural Net!\n",
    "\n",
    "model = Sequential()\n",
    "model.add(Dense(12,input_dim=9,activation='relu'))\n",
    "model.add(Dense(8,activation='relu'))\n",
    "model.add(Dense(8,activation='relu'))\n",
    "model.add(Dense(1,activation='sigmoid'))"
   ]
  },
  {
   "cell_type": "markdown",
   "metadata": {},
   "source": [
    "Nearly done here with at least constructing and training the net, but some issues I'm encounting is 1. Binary crossentropy loss function doesn't work. That I don't understand or know how to fix. And 2. Some of the data points are not filled, and are instead replaced with '?''s, solution is to either skip these, or find a way to ignore them, gotta talk to other people about both of these. "
   ]
  },
  {
   "cell_type": "code",
   "execution_count": null,
   "metadata": {
    "collapsed": true
   },
   "outputs": [],
   "source": [
    "#now compile the model\n",
    "\n",
    "model.compile(loss='mean_squared_error',optimizer='adam',metrics=['accuracy'])\n",
    "#binary cross entropy didn't work, is this okay? \n",
    "#now you train it with fit, and evaluate.\n",
    "model.fit(x,y,epochs=30,batch_size=20)\n"
   ]
  },
  {
   "cell_type": "code",
   "execution_count": null,
   "metadata": {
    "collapsed": true
   },
   "outputs": [],
   "source": [
    "predictions = model.predict(x)"
   ]
  },
  {
   "cell_type": "code",
   "execution_count": null,
   "metadata": {
    "collapsed": true
   },
   "outputs": [],
   "source": [
    "predictions"
   ]
  },
  {
   "cell_type": "code",
   "execution_count": null,
   "metadata": {
    "collapsed": true
   },
   "outputs": [],
   "source": [
    "x[0]"
   ]
  },
  {
   "cell_type": "code",
   "execution_count": null,
   "metadata": {
    "collapsed": true
   },
   "outputs": [],
   "source": [
    "y[0]"
   ]
  },
  {
   "cell_type": "code",
   "execution_count": null,
   "metadata": {
    "collapsed": true
   },
   "outputs": [],
   "source": []
  },
  {
   "cell_type": "code",
   "execution_count": null,
   "metadata": {
    "collapsed": true
   },
   "outputs": [],
   "source": [
    "y[:]"
   ]
  },
  {
   "cell_type": "code",
   "execution_count": null,
   "metadata": {
    "collapsed": true
   },
   "outputs": [],
   "source": []
  }
 ],
 "metadata": {
  "kernelspec": {
   "display_name": "Python 3",
   "language": "python",
   "name": "python3"
  },
  "language_info": {
   "codemirror_mode": {
    "name": "ipython",
    "version": 3
   },
   "file_extension": ".py",
   "mimetype": "text/x-python",
   "name": "python",
   "nbconvert_exporter": "python",
   "pygments_lexer": "ipython3",
   "version": "3.6.1"
  }
 },
 "nbformat": 4,
 "nbformat_minor": 2
}
