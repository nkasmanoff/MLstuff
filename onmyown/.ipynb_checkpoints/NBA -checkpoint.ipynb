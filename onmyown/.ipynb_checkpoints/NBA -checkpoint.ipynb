{
 "cells": [
  {
   "cell_type": "code",
   "execution_count": 1,
   "metadata": {},
   "outputs": [
    {
     "name": "stderr",
     "output_type": "stream",
     "text": [
      "/Users/noahkasmanoff/anaconda/lib/python3.6/site-packages/h5py/__init__.py:34: FutureWarning: Conversion of the second argument of issubdtype from `float` to `np.floating` is deprecated. In future, it will be treated as `np.float64 == np.dtype(float).type`.\n",
      "  from ._conv import register_converters as _register_converters\n",
      "Using TensorFlow backend.\n"
     ]
    }
   ],
   "source": [
    "from keras.models import Sequential\n",
    "from keras.layers import Dense\n",
    "import tensorflow\n",
    "import pandas\n",
    "import numpy\n",
    "numpy.random.seed(7)"
   ]
  },
  {
   "cell_type": "code",
   "execution_count": 2,
   "metadata": {
    "collapsed": true
   },
   "outputs": [],
   "source": [
    "data = pandas.read_csv('nbadatav1.csv')"
   ]
  },
  {
   "cell_type": "code",
   "execution_count": 3,
   "metadata": {
    "collapsed": true,
    "scrolled": true
   },
   "outputs": [],
   "source": [
    "\n",
    "del data['Team']"
   ]
  },
  {
   "cell_type": "code",
   "execution_count": 4,
   "metadata": {
    "collapsed": true
   },
   "outputs": [],
   "source": [
    "y = data['W/L %'].values\n",
    "del data['W/L %']"
   ]
  },
  {
   "cell_type": "code",
   "execution_count": 5,
   "metadata": {
    "collapsed": true
   },
   "outputs": [],
   "source": [
    "x=data.values\n",
    "del data"
   ]
  },
  {
   "cell_type": "code",
   "execution_count": 6,
   "metadata": {
    "collapsed": true
   },
   "outputs": [],
   "source": [
    "\n",
    "model = Sequential()\n",
    "model.add(Dense(12,input_dim=7,activation='relu'))\n",
    "model.add(Dense(8,activation='relu'))\n",
    "model.add(Dense(1,activation='sigmoid'))\n",
    "model.compile(loss='mean_squared_error', optimizer='SGD', metrics=['accuracy'])\n"
   ]
  },
  {
   "cell_type": "code",
   "execution_count": 7,
   "metadata": {},
   "outputs": [
    {
     "name": "stdout",
     "output_type": "stream",
     "text": [
      "Epoch 1/25\n",
      "60/60 [==============================] - 0s 3ms/step - loss: 270.1816 - acc: 0.0333\n",
      "Epoch 2/25\n",
      "60/60 [==============================] - 0s 348us/step - loss: 266.2039 - acc: 0.0333\n",
      "Epoch 3/25\n",
      "60/60 [==============================] - 0s 423us/step - loss: 266.1769 - acc: 0.0333\n",
      "Epoch 4/25\n",
      "60/60 [==============================] - 0s 421us/step - loss: 266.1730 - acc: 0.0333\n",
      "Epoch 5/25\n",
      "60/60 [==============================] - 0s 301us/step - loss: 266.1713 - acc: 0.0333\n",
      "Epoch 6/25\n",
      "60/60 [==============================] - 0s 385us/step - loss: 266.1703 - acc: 0.0333\n",
      "Epoch 7/25\n",
      "60/60 [==============================] - 0s 365us/step - loss: 266.1696 - acc: 0.0333\n",
      "Epoch 8/25\n",
      "60/60 [==============================] - 0s 318us/step - loss: 266.1692 - acc: 0.0333\n",
      "Epoch 9/25\n",
      "60/60 [==============================] - 0s 333us/step - loss: 266.1688 - acc: 0.0333\n",
      "Epoch 10/25\n",
      "60/60 [==============================] - 0s 369us/step - loss: 266.1686 - acc: 0.0333\n",
      "Epoch 11/25\n",
      "60/60 [==============================] - 0s 406us/step - loss: 266.1684 - acc: 0.0333\n",
      "Epoch 12/25\n",
      "60/60 [==============================] - 0s 403us/step - loss: 266.1682 - acc: 0.0333\n",
      "Epoch 13/25\n",
      "60/60 [==============================] - 0s 280us/step - loss: 266.1681 - acc: 0.0333\n",
      "Epoch 14/25\n",
      "60/60 [==============================] - 0s 318us/step - loss: 266.1679 - acc: 0.0333\n",
      "Epoch 15/25\n",
      "60/60 [==============================] - 0s 395us/step - loss: 266.1679 - acc: 0.0333\n",
      "Epoch 16/25\n",
      "60/60 [==============================] - 0s 363us/step - loss: 266.1678 - acc: 0.0333\n",
      "Epoch 17/25\n",
      "60/60 [==============================] - 0s 424us/step - loss: 266.1677 - acc: 0.0333\n",
      "Epoch 18/25\n",
      "60/60 [==============================] - 0s 385us/step - loss: 266.1676 - acc: 0.0333\n",
      "Epoch 19/25\n",
      "60/60 [==============================] - 0s 390us/step - loss: 266.1676 - acc: 0.0333\n",
      "Epoch 20/25\n",
      "60/60 [==============================] - 0s 351us/step - loss: 266.1675 - acc: 0.0333\n",
      "Epoch 21/25\n",
      "60/60 [==============================] - 0s 251us/step - loss: 266.1675 - acc: 0.0333\n",
      "Epoch 22/25\n",
      "60/60 [==============================] - 0s 378us/step - loss: 266.1674 - acc: 0.0333\n",
      "Epoch 23/25\n",
      "60/60 [==============================] - 0s 398us/step - loss: 266.1674 - acc: 0.0333\n",
      "Epoch 24/25\n",
      "60/60 [==============================] - 0s 394us/step - loss: 266.1674 - acc: 0.0333\n",
      "Epoch 25/25\n",
      "60/60 [==============================] - 0s 353us/step - loss: 266.1673 - acc: 0.0333\n"
     ]
    },
    {
     "data": {
      "text/plain": [
       "<keras.callbacks.History at 0x1129eb550>"
      ]
     },
     "execution_count": 7,
     "metadata": {},
     "output_type": "execute_result"
    }
   ],
   "source": [
    "model.fit(x,y,epochs=25,batch_size=6)\n"
   ]
  },
  {
   "cell_type": "code",
   "execution_count": 8,
   "metadata": {},
   "outputs": [],
   "source": [
    "nets = numpy.array([1,2,1,3,1,4,5])"
   ]
  },
  {
   "cell_type": "code",
   "execution_count": null,
   "metadata": {},
   "outputs": [],
   "source": [
    "scores[1]*100"
   ]
  },
  {
   "cell_type": "code",
   "execution_count": 36,
   "metadata": {},
   "outputs": [],
   "source": [
    "prediction =model.predict(numpy.array([[3,3,3,3,3,3,3]]))\n",
    "#WRONG"
   ]
  },
  {
   "cell_type": "code",
   "execution_count": 35,
   "metadata": {},
   "outputs": [
    {
     "data": {
      "text/plain": [
       "array([28.56269], dtype=float32)"
      ]
     },
     "execution_count": 35,
     "metadata": {},
     "output_type": "execute_result"
    }
   ],
   "source": []
  },
  {
   "cell_type": "code",
   "execution_count": null,
   "metadata": {},
   "outputs": [],
   "source": [
    "numpy.shape(nets)"
   ]
  },
  {
   "cell_type": "code",
   "execution_count": 10,
   "metadata": {},
   "outputs": [
    {
     "data": {
      "text/plain": [
       "numpy.ndarray"
      ]
     },
     "execution_count": 10,
     "metadata": {},
     "output_type": "execute_result"
    }
   ],
   "source": [
    "type(nets)"
   ]
  },
  {
   "cell_type": "code",
   "execution_count": null,
   "metadata": {
    "collapsed": true
   },
   "outputs": [],
   "source": []
  }
 ],
 "metadata": {
  "kernelspec": {
   "display_name": "Python 3",
   "language": "python",
   "name": "python3"
  },
  "language_info": {
   "codemirror_mode": {
    "name": "ipython",
    "version": 3
   },
   "file_extension": ".py",
   "mimetype": "text/x-python",
   "name": "python",
   "nbconvert_exporter": "python",
   "pygments_lexer": "ipython3",
   "version": "3.6.1"
  }
 },
 "nbformat": 4,
 "nbformat_minor": 2
}
