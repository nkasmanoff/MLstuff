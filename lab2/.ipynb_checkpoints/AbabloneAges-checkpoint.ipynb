{
 "cells": [
  {
   "cell_type": "markdown",
   "metadata": {},
   "source": [
    "Using Keras, takes a data set of Abalone along with their properties, and uses these to try and predict their age. Training data provided by https://archive.ics.uci.edu/ml/machine-learning-databases/abalone/"
   ]
  },
  {
   "cell_type": "code",
   "execution_count": 1,
   "metadata": {},
   "outputs": [
    {
     "name": "stderr",
     "output_type": "stream",
     "text": [
      "/Users/noahkasmanoff/anaconda/lib/python3.6/site-packages/h5py/__init__.py:34: FutureWarning: Conversion of the second argument of issubdtype from `float` to `np.floating` is deprecated. In future, it will be treated as `np.float64 == np.dtype(float).type`.\n",
      "  from ._conv import register_converters as _register_converters\n",
      "Using TensorFlow backend.\n"
     ]
    }
   ],
   "source": [
    "from keras.models import Sequential\n",
    "from keras.layers import Dense\n",
    "import tensorflow\n",
    "import pandas\n",
    "import numpy as np\n",
    "np.random.seed(4)"
   ]
  },
  {
   "cell_type": "code",
   "execution_count": null,
   "metadata": {
    "collapsed": true
   },
   "outputs": [],
   "source": []
  },
  {
   "cell_type": "code",
   "execution_count": 2,
   "metadata": {
    "collapsed": true
   },
   "outputs": [],
   "source": [
    "#read in data, create a matrix of it using .values\n",
    "data= pandas.read_csv('abalone.csv')\n",
    "dat = data.values  #why this? \n"
   ]
  },
  {
   "cell_type": "code",
   "execution_count": 3,
   "metadata": {
    "collapsed": true
   },
   "outputs": [],
   "source": [
    "#input data is the first 7 columns and stuff, output is the final column. \n",
    "y = dat[:,8]\n",
    "a = dat[:,0:8]"
   ]
  },
  {
   "cell_type": "code",
   "execution_count": 4,
   "metadata": {
    "collapsed": true
   },
   "outputs": [],
   "source": [
    "#hot encoder: \n",
    "append_array = np.zeros([len(a),2])\n",
    "a = np.concatenate((append_array,a),axis=1)\n",
    "for i in range(0,len(a)):\n",
    "    if (a[i,2] == 'M'):\n",
    "        a[i,0] = 0.0\n",
    "        a[i,2] = 1.0\n",
    "    elif (a[i,2] == 'F'):\n",
    "        a[i,0] = 1.0\n",
    "        a[i,2] = 0.0\n",
    "    elif (a[i,2] == 'I'):\n",
    "        a[i,1] = 1.0\n",
    "        a[i,2] = 0.0\n"
   ]
  },
  {
   "cell_type": "code",
   "execution_count": 37,
   "metadata": {},
   "outputs": [],
   "source": [
    "model=Sequential()\n",
    "#Now to add layers\n",
    "model.add(Dense(120,input_dim=10,activation='relu'))\n",
    "model.add(Dense(80,activation='relu'))\n",
    "model.add(Dense(60,activation='linear'))\n",
    "model.add(Dense(1,activation='linear'))\n",
    "model.compile(loss='mean_squared_error',optimizer='SGD',metrics=['accuracy'])\n"
   ]
  },
  {
   "cell_type": "code",
   "execution_count": 38,
   "metadata": {},
   "outputs": [
    {
     "name": "stdout",
     "output_type": "stream",
     "text": [
      "Epoch 1/20\n",
      "4177/4177 [==============================] - 1s 153us/step - loss: 11.0922 - acc: 0.1609\n",
      "Epoch 2/20\n",
      "4177/4177 [==============================] - 0s 94us/step - loss: 7.5608 - acc: 0.1800\n",
      "Epoch 3/20\n",
      "4177/4177 [==============================] - 0s 90us/step - loss: 6.6167 - acc: 0.1968\n",
      "Epoch 4/20\n",
      "4177/4177 [==============================] - 0s 89us/step - loss: 6.3848 - acc: 0.1946\n",
      "Epoch 5/20\n",
      "4177/4177 [==============================] - 0s 90us/step - loss: 6.3513 - acc: 0.1985\n",
      "Epoch 6/20\n",
      "4177/4177 [==============================] - 0s 87us/step - loss: 5.9325 - acc: 0.2001\n",
      "Epoch 7/20\n",
      "4177/4177 [==============================] - 0s 88us/step - loss: 5.7659 - acc: 0.2212\n",
      "Epoch 8/20\n",
      "4177/4177 [==============================] - 0s 91us/step - loss: 6.0815 - acc: 0.1989\n",
      "Epoch 9/20\n",
      "4177/4177 [==============================] - 0s 89us/step - loss: 5.3730 - acc: 0.2162\n",
      "Epoch 10/20\n",
      "4177/4177 [==============================] - 0s 94us/step - loss: 5.4693 - acc: 0.2164\n",
      "Epoch 11/20\n",
      "4177/4177 [==============================] - 0s 103us/step - loss: 5.3315 - acc: 0.2241\n",
      "Epoch 12/20\n",
      "4177/4177 [==============================] - 0s 99us/step - loss: 5.5392 - acc: 0.2241\n",
      "Epoch 13/20\n",
      "4177/4177 [==============================] - 0s 100us/step - loss: 5.1994 - acc: 0.2219\n",
      "Epoch 14/20\n",
      "4177/4177 [==============================] - 0s 98us/step - loss: 5.2217 - acc: 0.2183\n",
      "Epoch 15/20\n",
      "4177/4177 [==============================] - 0s 99us/step - loss: 4.8797 - acc: 0.2353\n",
      "Epoch 16/20\n",
      "4177/4177 [==============================] - 0s 98us/step - loss: 5.1150 - acc: 0.2387\n",
      "Epoch 17/20\n",
      "4177/4177 [==============================] - 0s 102us/step - loss: 4.9598 - acc: 0.2339\n",
      "Epoch 18/20\n",
      "4177/4177 [==============================] - 0s 92us/step - loss: 5.0040 - acc: 0.2344\n",
      "Epoch 19/20\n",
      "4177/4177 [==============================] - 0s 96us/step - loss: 4.9274 - acc: 0.2361\n",
      "Epoch 20/20\n",
      "4177/4177 [==============================] - 0s 96us/step - loss: 4.9848 - acc: 0.2356\n"
     ]
    },
    {
     "data": {
      "text/plain": [
       "<keras.callbacks.History at 0x122ad2ef0>"
      ]
     },
     "execution_count": 38,
     "metadata": {},
     "output_type": "execute_result"
    }
   ],
   "source": [
    "model.fit(a,y,epochs=20,batch_size=20)\n"
   ]
  },
  {
   "cell_type": "code",
   "execution_count": 39,
   "metadata": {},
   "outputs": [
    {
     "name": "stdout",
     "output_type": "stream",
     "text": [
      "4177/4177 [==============================] - 0s 40us/step\n"
     ]
    }
   ],
   "source": [
    "scores=model.evaluate(a,y)"
   ]
  },
  {
   "cell_type": "code",
   "execution_count": 40,
   "metadata": {
    "collapsed": true
   },
   "outputs": [],
   "source": [
    "predict = [0.0, 0.0, 1.0, ..., 0.2245, 0.10099999999999999, 0.15]  #answer is 15"
   ]
  },
  {
   "cell_type": "code",
   "execution_count": 45,
   "metadata": {},
   "outputs": [
    {
     "ename": "SyntaxError",
     "evalue": "invalid syntax (<ipython-input-45-d32a4762668e>, line 1)",
     "output_type": "error",
     "traceback": [
      "\u001b[0;36m  File \u001b[0;32m\"<ipython-input-45-d32a4762668e>\"\u001b[0;36m, line \u001b[0;32m1\u001b[0m\n\u001b[0;31m    for i in range(len(a))model.predict(np.array([a[0]]))\u001b[0m\n\u001b[0m                              ^\u001b[0m\n\u001b[0;31mSyntaxError\u001b[0m\u001b[0;31m:\u001b[0m invalid syntax\n"
     ]
    }
   ],
   "source": [
    "for i in range(len(a))\n",
    "model.predict(np.array([a[0]]))"
   ]
  },
  {
   "cell_type": "code",
   "execution_count": 44,
   "metadata": {},
   "outputs": [
    {
     "data": {
      "text/plain": [
       "15"
      ]
     },
     "execution_count": 44,
     "metadata": {},
     "output_type": "execute_result"
    }
   ],
   "source": [
    "y[0]"
   ]
  },
  {
   "cell_type": "code",
   "execution_count": 51,
   "metadata": {},
   "outputs": [
    {
     "data": {
      "text/plain": [
       "array([3.290735], dtype=float32)"
      ]
     },
     "execution_count": 51,
     "metadata": {},
     "output_type": "execute_result"
    }
   ],
   "source": [
    "min(model.predict(np.array(a[:])))"
   ]
  },
  {
   "cell_type": "code",
   "execution_count": 52,
   "metadata": {},
   "outputs": [
    {
     "data": {
      "text/plain": [
       "1"
      ]
     },
     "execution_count": 52,
     "metadata": {},
     "output_type": "execute_result"
    }
   ],
   "source": [
    "min(y)"
   ]
  },
  {
   "cell_type": "code",
   "execution_count": null,
   "metadata": {
    "collapsed": true
   },
   "outputs": [],
   "source": []
  }
 ],
 "metadata": {
  "kernelspec": {
   "display_name": "Python 3",
   "language": "python",
   "name": "python3"
  },
  "language_info": {
   "codemirror_mode": {
    "name": "ipython",
    "version": 3
   },
   "file_extension": ".py",
   "mimetype": "text/x-python",
   "name": "python",
   "nbconvert_exporter": "python",
   "pygments_lexer": "ipython3",
   "version": "3.6.1"
  }
 },
 "nbformat": 4,
 "nbformat_minor": 2
}
