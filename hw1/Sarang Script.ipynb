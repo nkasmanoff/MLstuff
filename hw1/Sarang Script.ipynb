{
 "cells": [
  {
   "cell_type": "code",
   "execution_count": 9,
   "metadata": {},
   "outputs": [],
   "source": [
    "from keras.layers import Dense\n",
    "from keras.models import Sequential\n",
    "from sklearn.model_selection import train_test_split\n",
    "import sys\n",
    "import tensorflow\n",
    "import pandas as pd\n",
    "import numpy as np\n",
    "np.random.seed(7)"
   ]
  },
  {
   "cell_type": "code",
   "execution_count": 10,
   "metadata": {
    "collapsed": true
   },
   "outputs": [],
   "source": [
    "filename = 'iris.dat'\n",
    "dat = pd.read_csv(filename, header = None,names = ['sepal_l','sepal_w','petal_l','petal_w','class'])"
   ]
  },
  {
   "cell_type": "code",
   "execution_count": 11,
   "metadata": {},
   "outputs": [],
   "source": [
    "tra, tes = train_test_split(dat)"
   ]
  },
  {
   "cell_type": "code",
   "execution_count": 17,
   "metadata": {},
   "outputs": [],
   "source": [
    "x = dat.iloc[:,0:4]\n",
    "y = pd.get_dummies(dat['class'])"
   ]
  },
  {
   "cell_type": "code",
   "execution_count": 18,
   "metadata": {},
   "outputs": [],
   "source": [
    "xtrain, xtest = train_test_split(x,random_state=4)\n",
    "ytrain, ytest = train_test_split(y,random_state=4)"
   ]
  },
  {
   "cell_type": "code",
   "execution_count": 19,
   "metadata": {},
   "outputs": [
    {
     "name": "stdout",
     "output_type": "stream",
     "text": [
      "     sepal_l  sepal_w  petal_l  petal_w\n",
      "128      6.4      2.8      5.6      2.1\n",
      "18       5.7      3.8      1.7      0.3\n",
      "130      7.4      2.8      6.1      1.9\n",
      "105      7.6      3.0      6.6      2.1\n",
      "107      7.3      2.9      6.3      1.8\n",
      "78       6.0      2.9      4.5      1.5\n",
      "83       6.0      2.7      5.1      1.6\n",
      "14       5.8      4.0      1.2      0.2\n",
      "5        5.4      3.9      1.7      0.4\n",
      "133      6.3      2.8      5.1      1.5\n",
      "25       5.0      3.0      1.6      0.2\n",
      "11       4.8      3.4      1.6      0.2\n",
      "12       4.8      3.0      1.4      0.1\n",
      "63       6.1      2.9      4.7      1.4\n",
      "113      5.7      2.5      5.0      2.0\n",
      "34       4.9      3.1      1.5      0.1\n",
      "60       5.0      2.0      3.5      1.0\n",
      "2        4.7      3.2      1.3      0.2\n",
      "24       4.8      3.4      1.9      0.2\n",
      "123      6.3      2.7      4.9      1.8\n",
      "35       5.0      3.2      1.2      0.2\n",
      "124      6.7      3.3      5.7      2.1\n",
      "68       6.2      2.2      4.5      1.5\n",
      "26       5.0      3.4      1.6      0.4\n",
      "29       4.7      3.2      1.6      0.2\n",
      "19       5.1      3.8      1.5      0.3\n",
      "41       4.5      2.3      1.3      0.3\n",
      "16       5.4      3.9      1.3      0.4\n",
      "20       5.4      3.4      1.7      0.2\n",
      "101      5.8      2.7      5.1      1.9\n",
      "84       5.4      3.0      4.5      1.5\n",
      "47       4.6      3.2      1.4      0.2\n",
      "108      6.7      2.5      5.8      1.8\n",
      "1        4.9      3.0      1.4      0.2\n",
      "93       5.0      2.3      3.3      1.0\n",
      "144      6.7      3.3      5.7      2.5\n",
      "125      7.2      3.2      6.0      1.8\n",
      "92       5.8      2.6      4.0      1.2      Iris-setosa  Iris-versicolor  Iris-virginica\n",
      "128            0                0               1\n",
      "18             1                0               0\n",
      "130            0                0               1\n",
      "105            0                0               1\n",
      "107            0                0               1\n",
      "78             0                1               0\n",
      "83             0                1               0\n",
      "14             1                0               0\n",
      "5              1                0               0\n",
      "133            0                0               1\n",
      "25             1                0               0\n",
      "11             1                0               0\n",
      "12             1                0               0\n",
      "63             0                1               0\n",
      "113            0                0               1\n",
      "34             1                0               0\n",
      "60             0                1               0\n",
      "2              1                0               0\n",
      "24             1                0               0\n",
      "123            0                0               1\n",
      "35             1                0               0\n",
      "124            0                0               1\n",
      "68             0                1               0\n",
      "26             1                0               0\n",
      "29             1                0               0\n",
      "19             1                0               0\n",
      "41             1                0               0\n",
      "16             1                0               0\n",
      "20             1                0               0\n",
      "101            0                0               1\n",
      "84             0                1               0\n",
      "47             1                0               0\n",
      "108            0                0               1\n",
      "1              1                0               0\n",
      "93             0                1               0\n",
      "144            0                0               1\n",
      "125            0                0               1\n",
      "92             0                1               0\n"
     ]
    }
   ],
   "source": [
    "print(xtest,ytest)"
   ]
  },
  {
   "cell_type": "code",
   "execution_count": 6,
   "metadata": {
    "collapsed": true
   },
   "outputs": [],
   "source": [
    "x_train = x.sample(frac = 0.5, axis = 0)\n",
    "y_train = y.values[x_train.index]"
   ]
  },
  {
   "cell_type": "code",
   "execution_count": 7,
   "metadata": {
    "collapsed": true
   },
   "outputs": [],
   "source": [
    "x_test = x.drop(x_train.index)\n",
    "y_test = y.values[x_test.index]"
   ]
  },
  {
   "cell_type": "code",
   "execution_count": 8,
   "metadata": {
    "collapsed": true
   },
   "outputs": [],
   "source": [
    "x_test = x_test.values\n",
    "x_train = x_train.values"
   ]
  },
  {
   "cell_type": "code",
   "execution_count": 13,
   "metadata": {},
   "outputs": [
    {
     "name": "stdout",
     "output_type": "stream",
     "text": [
      "(75, 4) (75, 3)\n"
     ]
    }
   ],
   "source": [
    "print(np.shape(x_train),np.shape(y_train))"
   ]
  },
  {
   "cell_type": "code",
   "execution_count": 17,
   "metadata": {
    "collapsed": true
   },
   "outputs": [],
   "source": [
    "model = Sequential()\n",
    "model.add(Dense(12, input_dim=4, activation='relu'))\n",
    "model.add(Dense(8, activation='relu'))\n",
    "model.add(Dense(3, activation='sigmoid'))\n",
    "\n",
    "model.compile(loss='categorical_crossentropy', optimizer='SGD', metrics=['accuracy'])"
   ]
  },
  {
   "cell_type": "code",
   "execution_count": 18,
   "metadata": {},
   "outputs": [
    {
     "name": "stdout",
     "output_type": "stream",
     "text": [
      "Epoch 1/25\n",
      "75/75 [==============================] - 0s 4ms/step - loss: 1.2444 - acc: 0.3333\n",
      "Epoch 2/25\n",
      "75/75 [==============================] - 0s 185us/step - loss: 1.1445 - acc: 0.3333\n",
      "Epoch 3/25\n",
      "75/75 [==============================] - 0s 151us/step - loss: 1.0811 - acc: 0.3333\n",
      "Epoch 4/25\n",
      "75/75 [==============================] - 0s 160us/step - loss: 1.0503 - acc: 0.3333\n",
      "Epoch 5/25\n",
      "75/75 [==============================] - 0s 144us/step - loss: 1.0287 - acc: 0.3333\n",
      "Epoch 6/25\n",
      "75/75 [==============================] - 0s 163us/step - loss: 1.0093 - acc: 0.3333\n",
      "Epoch 7/25\n",
      "75/75 [==============================] - 0s 155us/step - loss: 0.9919 - acc: 0.3333\n",
      "Epoch 8/25\n",
      "75/75 [==============================] - 0s 127us/step - loss: 0.9765 - acc: 0.3333\n",
      "Epoch 9/25\n",
      "75/75 [==============================] - 0s 162us/step - loss: 0.9595 - acc: 0.3333\n",
      "Epoch 10/25\n",
      "75/75 [==============================] - 0s 156us/step - loss: 0.9425 - acc: 0.4533\n",
      "Epoch 11/25\n",
      "75/75 [==============================] - 0s 128us/step - loss: 0.9251 - acc: 0.6667\n",
      "Epoch 12/25\n",
      "75/75 [==============================] - 0s 188us/step - loss: 0.9106 - acc: 0.6667\n",
      "Epoch 13/25\n",
      "75/75 [==============================] - 0s 174us/step - loss: 0.8955 - acc: 0.6667\n",
      "Epoch 14/25\n",
      "75/75 [==============================] - 0s 211us/step - loss: 0.8806 - acc: 0.6667\n",
      "Epoch 15/25\n",
      "75/75 [==============================] - 0s 148us/step - loss: 0.8618 - acc: 0.6667\n",
      "Epoch 16/25\n",
      "75/75 [==============================] - 0s 265us/step - loss: 0.8445 - acc: 0.6667\n",
      "Epoch 17/25\n",
      "75/75 [==============================] - 0s 161us/step - loss: 0.8250 - acc: 0.6667\n",
      "Epoch 18/25\n",
      "75/75 [==============================] - 0s 123us/step - loss: 0.8080 - acc: 0.6667\n",
      "Epoch 19/25\n",
      "75/75 [==============================] - 0s 191us/step - loss: 0.7871 - acc: 0.6667\n",
      "Epoch 20/25\n",
      "75/75 [==============================] - 0s 123us/step - loss: 0.7639 - acc: 0.6667\n",
      "Epoch 21/25\n",
      "75/75 [==============================] - 0s 197us/step - loss: 0.7433 - acc: 0.6667\n",
      "Epoch 22/25\n",
      "75/75 [==============================] - 0s 147us/step - loss: 0.7200 - acc: 0.7200\n",
      "Epoch 23/25\n",
      "75/75 [==============================] - 0s 152us/step - loss: 0.6984 - acc: 0.7733\n",
      "Epoch 24/25\n",
      "75/75 [==============================] - 0s 165us/step - loss: 0.6768 - acc: 0.8000\n",
      "Epoch 25/25\n",
      "75/75 [==============================] - 0s 118us/step - loss: 0.6544 - acc: 0.8933\n"
     ]
    },
    {
     "data": {
      "text/plain": [
       "<keras.callbacks.History at 0x12fa76160>"
      ]
     },
     "execution_count": 18,
     "metadata": {},
     "output_type": "execute_result"
    }
   ],
   "source": [
    "model.fit(x_train, y_train, epochs=25, batch_size=10)"
   ]
  },
  {
   "cell_type": "code",
   "execution_count": null,
   "metadata": {
    "collapsed": true
   },
   "outputs": [],
   "source": []
  }
 ],
 "metadata": {
  "kernelspec": {
   "display_name": "Python 3",
   "language": "python",
   "name": "python3"
  },
  "language_info": {
   "codemirror_mode": {
    "name": "ipython",
    "version": 3
   },
   "file_extension": ".py",
   "mimetype": "text/x-python",
   "name": "python",
   "nbconvert_exporter": "python",
   "pygments_lexer": "ipython3",
   "version": "3.6.1"
  }
 },
 "nbformat": 4,
 "nbformat_minor": 2
}
